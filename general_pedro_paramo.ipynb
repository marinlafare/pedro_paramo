{
 "cells": [
  {
   "cell_type": "code",
   "execution_count": 1,
   "id": "88eeea13-da89-47e2-a477-adf5e3debae2",
   "metadata": {},
   "outputs": [
    {
     "name": "stderr",
     "output_type": "stream",
     "text": [
      "/home/jon/anaconda3/lib/python3.12/site-packages/ebooklib/epub.py:1347: FutureWarning: This search incorrectly ignores the root element, and will be fixed in a future version.  If you rely on the current behaviour, change it to './/xmlns:rootfile[@media-type]'\n",
      "  for root_file in tree.findall('//xmlns:rootfile[@media-type]', namespaces={'xmlns': NAMESPACES['CONTAINERNS']}):\n"
     ]
    },
    {
     "name": "stdout",
     "output_type": "stream",
     "text": [
      "Database 'dissection_table' already exists.\n",
      "Ensuring database tables exist...\n",
      "Database tables checked/created.\n",
      "Database initialization complete.\n",
      "DBInterface: SQLAlchemy engine and AsyncSessionLocal initialized.\n"
     ]
    }
   ],
   "source": [
    "import ebooklib\n",
    "from dissection_table.database.sources_formatting import *\n",
    "from ebooklib import epub\n",
    "from dissection_table.database.engine import init_db\n",
    "from constants import *\n",
    "from dissection_table.database.ask_db import *\n",
    "from dissection_table.database.db_interface import DBInterface\n",
    "await init_db(CONN_STRING)\n",
    "import time\n",
    "DBInterface.initialize_engine_and_session(CONN_STRING)"
   ]
  },
  {
   "cell_type": "code",
   "execution_count": 2,
   "id": "db4df59f-da23-4b7b-9536-e8c0a9a14db2",
   "metadata": {},
   "outputs": [],
   "source": [
    "# await open_request(\"DROP TABLE version CASCADE;\")\n",
    "# await open_request(\"DROP TABLE paragraph CASCADE;\")"
   ]
  },
  {
   "cell_type": "code",
   "execution_count": 3,
   "id": "4844b26c-2ebe-49eb-bad4-986bd4deeb7d",
   "metadata": {},
   "outputs": [],
   "source": [
    "# await open_request(\"\"\"SELECT text FROM paragraph WHERE n_paragraph = '2'\n",
    "#                     AND version_name = 'spanish_1';\n",
    "#         \"\"\")"
   ]
  },
  {
   "cell_type": "code",
   "execution_count": null,
   "id": "3c240f77-71ae-4222-bc57-8dc06c732a20",
   "metadata": {},
   "outputs": [],
   "source": []
  },
  {
   "cell_type": "code",
   "execution_count": 4,
   "id": "5f0e2fcc-a9f5-47b2-be3f-400c47ed6368",
   "metadata": {},
   "outputs": [
    {
     "data": {
      "text/plain": [
       "\"this pargraph: 100000000 doesn't exist\""
      ]
     },
     "execution_count": 4,
     "metadata": {},
     "output_type": "execute_result"
    }
   ],
   "source": [
    "await get_n_paragraph('spanish_1', 100000000)"
   ]
  },
  {
   "cell_type": "code",
   "execution_count": null,
   "id": "e9f6c4ef-1383-4ff0-b714-832c89a874fb",
   "metadata": {},
   "outputs": [],
   "source": []
  },
  {
   "cell_type": "code",
   "execution_count": null,
   "id": "dda80ef9-a52a-4549-a2de-6c5393e6740b",
   "metadata": {},
   "outputs": [],
   "source": []
  },
  {
   "cell_type": "code",
   "execution_count": null,
   "id": "e09aa7ff-8014-47a4-8152-abdd8bafcaea",
   "metadata": {},
   "outputs": [],
   "source": [
    "from dissection_table.database.ask_db import *\n",
    "async def get_paragraph(n_paragraph):\n",
    "    paragraph = get_n_paragraph(version, n_paragraph)\n",
    "    return paragraph"
   ]
  },
  {
   "cell_type": "code",
   "execution_count": 12,
   "id": "521250b0-2319-4430-8350-8d44d7bb77d7",
   "metadata": {},
   "outputs": [
    {
     "data": {
      "text/plain": [
       "[{'id': 1449,\n",
       "  'version_name': 'spanish_1',\n",
       "  'n_paragraph': 1,\n",
       "  'text': 'Todavía antes me había dicho:',\n",
       "  'n_words': 5}]"
      ]
     },
     "execution_count": 12,
     "metadata": {},
     "output_type": "execute_result"
    }
   ],
   "source": [
    "await open_request(\"\"\"\n",
    "                select * from paragraph where paragraph.version_name = 'spanish_1'\n",
    "                and paragraph.n_paragraph = 1\n",
    "                \"\"\", fetch_as_dict=True)"
   ]
  },
  {
   "cell_type": "code",
   "execution_count": null,
   "id": "bc5e5b2a-0bd7-4ad1-a6ca-b8b1c6ea15e3",
   "metadata": {},
   "outputs": [],
   "source": []
  },
  {
   "cell_type": "code",
   "execution_count": null,
   "id": "28f98f14-1760-453a-af37-4f6ff06a09ad",
   "metadata": {},
   "outputs": [],
   "source": []
  },
  {
   "cell_type": "code",
   "execution_count": 3,
   "id": "74aed3cf-fa40-4159-a451-69b87c511ad3",
   "metadata": {},
   "outputs": [
    {
     "name": "stdout",
     "output_type": "stream",
     "text": [
      "VERSION :: spanish_ :: not found, returning original: \"spanish_1\"\n"
     ]
    }
   ],
   "source": [
    "data_version = version(\"spanish_\")\n",
    "text = data_version[\"raw_text\"]"
   ]
  },
  {
   "cell_type": "code",
   "execution_count": 4,
   "id": "6940965d-98fe-4ecc-b478-14254610f486",
   "metadata": {},
   "outputs": [
    {
     "data": {
      "text/plain": [
       "'\\nVine a Comala porque me dijeron que acá vivía mi '"
      ]
     },
     "execution_count": 4,
     "metadata": {},
     "output_type": "execute_result"
    }
   ],
   "source": [
    "text[:50]"
   ]
  },
  {
   "cell_type": "code",
   "execution_count": null,
   "id": "226dab7a-db15-4e5a-82d8-a44594c86760",
   "metadata": {},
   "outputs": [],
   "source": []
  },
  {
   "cell_type": "code",
   "execution_count": null,
   "id": "39d9aecf-6271-48cc-b3ed-543f19159a55",
   "metadata": {},
   "outputs": [],
   "source": []
  },
  {
   "cell_type": "code",
   "execution_count": null,
   "id": "37647614-39a7-4821-ba35-03e7e4e1612e",
   "metadata": {},
   "outputs": [],
   "source": []
  },
  {
   "cell_type": "code",
   "execution_count": null,
   "id": "9df3075f-926f-4378-8086-338909cba7c2",
   "metadata": {},
   "outputs": [],
   "source": []
  },
  {
   "cell_type": "code",
   "execution_count": null,
   "id": "2229fb06-8324-4edb-992c-8b7ee607ca47",
   "metadata": {},
   "outputs": [],
   "source": []
  },
  {
   "cell_type": "code",
   "execution_count": 5,
   "id": "990aa624-8083-4dc3-a163-fc01766766f1",
   "metadata": {},
   "outputs": [],
   "source": [
    "start = time.time()"
   ]
  },
  {
   "cell_type": "code",
   "execution_count": 6,
   "id": "feb9e858-8f7d-4b06-9517-bf51327e785d",
   "metadata": {},
   "outputs": [
    {
     "name": "stdout",
     "output_type": "stream",
     "text": [
      "Successfully performed bulk insert for 1447 items in Paragraph.\n",
      "Successfully performed bulk insert for 1444 items in Paragraph.\n",
      "Successfully performed bulk insert for 1447 items in Paragraph.\n",
      "Successfully performed bulk insert for 1464 items in Paragraph.\n",
      "Successfully performed bulk insert for 1447 items in Paragraph.\n",
      "Successfully performed bulk insert for 1444 items in Paragraph.\n",
      "Successfully performed bulk insert for 1388 items in Paragraph.\n"
     ]
    }
   ],
   "source": [
    "await feed_database()"
   ]
  },
  {
   "cell_type": "code",
   "execution_count": 7,
   "id": "40290528-3ba9-4229-82ff-4f67e290cdb2",
   "metadata": {},
   "outputs": [],
   "source": [
    "end = time.time()"
   ]
  },
  {
   "cell_type": "code",
   "execution_count": null,
   "id": "296eeee8-3ca2-4781-a5e1-ce4c4cba28e8",
   "metadata": {},
   "outputs": [],
   "source": []
  },
  {
   "cell_type": "code",
   "execution_count": null,
   "id": "1d204f71-8c6d-4497-aab8-23f075cf04a7",
   "metadata": {},
   "outputs": [],
   "source": []
  },
  {
   "cell_type": "code",
   "execution_count": null,
   "id": "23e3d810-4cb5-4d5d-9cb6-783f7b068694",
   "metadata": {},
   "outputs": [],
   "source": []
  },
  {
   "cell_type": "code",
   "execution_count": null,
   "id": "47a5ebc0-617d-4fbb-8029-3e44c0e19efc",
   "metadata": {},
   "outputs": [],
   "source": []
  },
  {
   "cell_type": "code",
   "execution_count": 8,
   "id": "4b968b52-57a5-4977-98af-daa20d81153c",
   "metadata": {},
   "outputs": [
    {
     "name": "stdout",
     "output_type": "stream",
     "text": [
      "1.5437469482421875\n"
     ]
    }
   ],
   "source": [
    "print(end-start)"
   ]
  },
  {
   "cell_type": "code",
   "execution_count": 12,
   "id": "b9970cba-ac98-4b57-ba43-a44ca408245d",
   "metadata": {},
   "outputs": [
    {
     "data": {
      "text/plain": [
       "[(1, 'spanish_1', 'Juan Rulfo', 1955, 'www.elejandria.com', None, 'NO_METADATA', '\\nVine a Comala porque me dijeron que acá vivía mi padre, un tal Pedro Páramo. Mi madre me lo dijo. Y yo le prometí que vendría a verlo en cuanto ell ... (184088 characters truncated) ...  suplicando por dentro; pero sin decir una sola palabra. Dio un golpe seco contra la tierra y se fue desmoronando como si fuera un montón de piedras.')]"
      ]
     },
     "execution_count": 12,
     "metadata": {},
     "output_type": "execute_result"
    }
   ],
   "source": [
    "await open_request(\"select * from version;\")"
   ]
  },
  {
   "cell_type": "code",
   "execution_count": null,
   "id": "0089fa67-ef86-4214-a905-b6aeea211f98",
   "metadata": {},
   "outputs": [],
   "source": [
    "await open_request(\"select * from paragraph;\")"
   ]
  },
  {
   "cell_type": "code",
   "execution_count": null,
   "id": "71a0fa5c-5221-4183-bda7-15effc2b001b",
   "metadata": {},
   "outputs": [],
   "source": []
  },
  {
   "cell_type": "code",
   "execution_count": null,
   "id": "b1779ce6-7823-44e2-b56d-1be7aae2ab7b",
   "metadata": {},
   "outputs": [],
   "source": []
  },
  {
   "cell_type": "code",
   "execution_count": null,
   "id": "58b3b18d-30ca-498d-8142-9937a5bcfca1",
   "metadata": {},
   "outputs": [],
   "source": []
  },
  {
   "cell_type": "code",
   "execution_count": null,
   "id": "38f82025-a71f-4bf9-99ac-67ff190f6e64",
   "metadata": {},
   "outputs": [],
   "source": []
  },
  {
   "cell_type": "code",
   "execution_count": null,
   "id": "bc9edcdf-8213-4245-bac7-1c08c7bbdef0",
   "metadata": {},
   "outputs": [],
   "source": []
  },
  {
   "cell_type": "code",
   "execution_count": 20,
   "id": "c368915a-8f2a-4923-b3e5-3f59ea1a2391",
   "metadata": {},
   "outputs": [],
   "source": [
    "await open_request(\"DROP TABLE version CASCADE;\")"
   ]
  },
  {
   "cell_type": "code",
   "execution_count": 21,
   "id": "ba313d30-2413-4a6c-9042-58743e69b1fb",
   "metadata": {},
   "outputs": [
    {
     "name": "stdout",
     "output_type": "stream",
     "text": [
      "Error in open_request: (sqlalchemy.dialects.postgresql.asyncpg.ProgrammingError) <class 'asyncpg.exceptions.UndefinedTableError'>: relation \"version\" does not exist\n",
      "[SQL: select * from version;]\n",
      "(Background on this error at: https://sqlalche.me/e/20/f405)\n"
     ]
    },
    {
     "ename": "ProgrammingError",
     "evalue": "(sqlalchemy.dialects.postgresql.asyncpg.ProgrammingError) <class 'asyncpg.exceptions.UndefinedTableError'>: relation \"version\" does not exist\n[SQL: select * from version;]\n(Background on this error at: https://sqlalche.me/e/20/f405)",
     "output_type": "error",
     "traceback": [
      "\u001b[0;31m---------------------------------------------------------------------------\u001b[0m",
      "\u001b[0;31mUndefinedTableError\u001b[0m                       Traceback (most recent call last)",
      "File \u001b[0;32m~/anaconda3/lib/python3.12/site-packages/sqlalchemy/dialects/postgresql/asyncpg.py:538\u001b[0m, in \u001b[0;36mAsyncAdapt_asyncpg_cursor._prepare_and_execute\u001b[0;34m(self, operation, parameters)\u001b[0m\n\u001b[1;32m    537\u001b[0m \u001b[38;5;28;01melse\u001b[39;00m:\n\u001b[0;32m--> 538\u001b[0m     \u001b[38;5;28mself\u001b[39m\u001b[38;5;241m.\u001b[39m_rows \u001b[38;5;241m=\u001b[39m deque(\u001b[38;5;28;01mawait\u001b[39;00m prepared_stmt\u001b[38;5;241m.\u001b[39mfetch(\u001b[38;5;241m*\u001b[39mparameters))\n\u001b[1;32m    539\u001b[0m     status \u001b[38;5;241m=\u001b[39m prepared_stmt\u001b[38;5;241m.\u001b[39mget_statusmsg()\n",
      "File \u001b[0;32m~/anaconda3/lib/python3.12/site-packages/asyncpg/prepared_stmt.py:176\u001b[0m, in \u001b[0;36mPreparedStatement.fetch\u001b[0;34m(self, timeout, *args)\u001b[0m\n\u001b[1;32m    168\u001b[0m \u001b[38;5;250m\u001b[39m\u001b[38;5;124mr\u001b[39m\u001b[38;5;124;03m\"\"\"Execute the statement and return a list of :class:`Record` objects.\u001b[39;00m\n\u001b[1;32m    169\u001b[0m \n\u001b[1;32m    170\u001b[0m \u001b[38;5;124;03m:param str query: Query text\u001b[39;00m\n\u001b[0;32m   (...)\u001b[0m\n\u001b[1;32m    174\u001b[0m \u001b[38;5;124;03m:return: A list of :class:`Record` instances.\u001b[39;00m\n\u001b[1;32m    175\u001b[0m \u001b[38;5;124;03m\"\"\"\u001b[39;00m\n\u001b[0;32m--> 176\u001b[0m data \u001b[38;5;241m=\u001b[39m \u001b[38;5;28;01mawait\u001b[39;00m \u001b[38;5;28mself\u001b[39m\u001b[38;5;241m.\u001b[39m__bind_execute(args, \u001b[38;5;241m0\u001b[39m, timeout)\n\u001b[1;32m    177\u001b[0m \u001b[38;5;28;01mreturn\u001b[39;00m data\n",
      "File \u001b[0;32m~/anaconda3/lib/python3.12/site-packages/asyncpg/prepared_stmt.py:267\u001b[0m, in \u001b[0;36mPreparedStatement.__bind_execute\u001b[0;34m(self, args, limit, timeout)\u001b[0m\n\u001b[1;32m    266\u001b[0m \u001b[38;5;28;01masync\u001b[39;00m \u001b[38;5;28;01mdef\u001b[39;00m \u001b[38;5;21m__bind_execute\u001b[39m(\u001b[38;5;28mself\u001b[39m, args, limit, timeout):\n\u001b[0;32m--> 267\u001b[0m     data, status, _ \u001b[38;5;241m=\u001b[39m \u001b[38;5;28;01mawait\u001b[39;00m \u001b[38;5;28mself\u001b[39m\u001b[38;5;241m.\u001b[39m__do_execute(\n\u001b[1;32m    268\u001b[0m         \u001b[38;5;28;01mlambda\u001b[39;00m protocol: protocol\u001b[38;5;241m.\u001b[39mbind_execute(\n\u001b[1;32m    269\u001b[0m             \u001b[38;5;28mself\u001b[39m\u001b[38;5;241m.\u001b[39m_state, args, \u001b[38;5;124m'\u001b[39m\u001b[38;5;124m'\u001b[39m, limit, \u001b[38;5;28;01mTrue\u001b[39;00m, timeout))\n\u001b[1;32m    270\u001b[0m     \u001b[38;5;28mself\u001b[39m\u001b[38;5;241m.\u001b[39m_last_status \u001b[38;5;241m=\u001b[39m status\n",
      "File \u001b[0;32m~/anaconda3/lib/python3.12/site-packages/asyncpg/prepared_stmt.py:256\u001b[0m, in \u001b[0;36mPreparedStatement.__do_execute\u001b[0;34m(self, executor)\u001b[0m\n\u001b[1;32m    255\u001b[0m \u001b[38;5;28;01mtry\u001b[39;00m:\n\u001b[0;32m--> 256\u001b[0m     \u001b[38;5;28;01mreturn\u001b[39;00m \u001b[38;5;28;01mawait\u001b[39;00m executor(protocol)\n\u001b[1;32m    257\u001b[0m \u001b[38;5;28;01mexcept\u001b[39;00m exceptions\u001b[38;5;241m.\u001b[39mOutdatedSchemaCacheError:\n",
      "File \u001b[0;32m~/anaconda3/lib/python3.12/site-packages/asyncpg/protocol/protocol.pyx:206\u001b[0m, in \u001b[0;36mbind_execute\u001b[0;34m()\u001b[0m\n",
      "\u001b[0;31mUndefinedTableError\u001b[0m: relation \"version\" does not exist",
      "\nThe above exception was the direct cause of the following exception:\n",
      "\u001b[0;31mProgrammingError\u001b[0m                          Traceback (most recent call last)",
      "File \u001b[0;32m~/anaconda3/lib/python3.12/site-packages/sqlalchemy/engine/base.py:1967\u001b[0m, in \u001b[0;36mConnection._exec_single_context\u001b[0;34m(self, dialect, context, statement, parameters)\u001b[0m\n\u001b[1;32m   1966\u001b[0m     \u001b[38;5;28;01mif\u001b[39;00m \u001b[38;5;129;01mnot\u001b[39;00m evt_handled:\n\u001b[0;32m-> 1967\u001b[0m         \u001b[38;5;28mself\u001b[39m\u001b[38;5;241m.\u001b[39mdialect\u001b[38;5;241m.\u001b[39mdo_execute(\n\u001b[1;32m   1968\u001b[0m             cursor, str_statement, effective_parameters, context\n\u001b[1;32m   1969\u001b[0m         )\n\u001b[1;32m   1971\u001b[0m \u001b[38;5;28;01mif\u001b[39;00m \u001b[38;5;28mself\u001b[39m\u001b[38;5;241m.\u001b[39m_has_events \u001b[38;5;129;01mor\u001b[39;00m \u001b[38;5;28mself\u001b[39m\u001b[38;5;241m.\u001b[39mengine\u001b[38;5;241m.\u001b[39m_has_events:\n",
      "File \u001b[0;32m~/anaconda3/lib/python3.12/site-packages/sqlalchemy/engine/default.py:941\u001b[0m, in \u001b[0;36mDefaultDialect.do_execute\u001b[0;34m(self, cursor, statement, parameters, context)\u001b[0m\n\u001b[1;32m    940\u001b[0m \u001b[38;5;28;01mdef\u001b[39;00m \u001b[38;5;21mdo_execute\u001b[39m(\u001b[38;5;28mself\u001b[39m, cursor, statement, parameters, context\u001b[38;5;241m=\u001b[39m\u001b[38;5;28;01mNone\u001b[39;00m):\n\u001b[0;32m--> 941\u001b[0m     cursor\u001b[38;5;241m.\u001b[39mexecute(statement, parameters)\n",
      "File \u001b[0;32m~/anaconda3/lib/python3.12/site-packages/sqlalchemy/dialects/postgresql/asyncpg.py:572\u001b[0m, in \u001b[0;36mAsyncAdapt_asyncpg_cursor.execute\u001b[0;34m(self, operation, parameters)\u001b[0m\n\u001b[1;32m    571\u001b[0m \u001b[38;5;28;01mdef\u001b[39;00m \u001b[38;5;21mexecute\u001b[39m(\u001b[38;5;28mself\u001b[39m, operation, parameters\u001b[38;5;241m=\u001b[39m\u001b[38;5;28;01mNone\u001b[39;00m):\n\u001b[0;32m--> 572\u001b[0m     \u001b[38;5;28mself\u001b[39m\u001b[38;5;241m.\u001b[39m_adapt_connection\u001b[38;5;241m.\u001b[39mawait_(\n\u001b[1;32m    573\u001b[0m         \u001b[38;5;28mself\u001b[39m\u001b[38;5;241m.\u001b[39m_prepare_and_execute(operation, parameters)\n\u001b[1;32m    574\u001b[0m     )\n",
      "File \u001b[0;32m~/anaconda3/lib/python3.12/site-packages/sqlalchemy/util/_concurrency_py3k.py:132\u001b[0m, in \u001b[0;36mawait_only\u001b[0;34m(awaitable)\u001b[0m\n\u001b[1;32m    128\u001b[0m \u001b[38;5;66;03m# returns the control to the driver greenlet passing it\u001b[39;00m\n\u001b[1;32m    129\u001b[0m \u001b[38;5;66;03m# a coroutine to run. Once the awaitable is done, the driver greenlet\u001b[39;00m\n\u001b[1;32m    130\u001b[0m \u001b[38;5;66;03m# switches back to this greenlet with the result of awaitable that is\u001b[39;00m\n\u001b[1;32m    131\u001b[0m \u001b[38;5;66;03m# then returned to the caller (or raised as error)\u001b[39;00m\n\u001b[0;32m--> 132\u001b[0m \u001b[38;5;28;01mreturn\u001b[39;00m current\u001b[38;5;241m.\u001b[39mparent\u001b[38;5;241m.\u001b[39mswitch(awaitable)\n",
      "File \u001b[0;32m~/anaconda3/lib/python3.12/site-packages/sqlalchemy/util/_concurrency_py3k.py:196\u001b[0m, in \u001b[0;36mgreenlet_spawn\u001b[0;34m(fn, _require_await, *args, **kwargs)\u001b[0m\n\u001b[1;32m    193\u001b[0m \u001b[38;5;28;01mtry\u001b[39;00m:\n\u001b[1;32m    194\u001b[0m     \u001b[38;5;66;03m# wait for a coroutine from await_only and then return its\u001b[39;00m\n\u001b[1;32m    195\u001b[0m     \u001b[38;5;66;03m# result back to it.\u001b[39;00m\n\u001b[0;32m--> 196\u001b[0m     value \u001b[38;5;241m=\u001b[39m \u001b[38;5;28;01mawait\u001b[39;00m result\n\u001b[1;32m    197\u001b[0m \u001b[38;5;28;01mexcept\u001b[39;00m \u001b[38;5;167;01mBaseException\u001b[39;00m:\n\u001b[1;32m    198\u001b[0m     \u001b[38;5;66;03m# this allows an exception to be raised within\u001b[39;00m\n\u001b[1;32m    199\u001b[0m     \u001b[38;5;66;03m# the moderated greenlet so that it can continue\u001b[39;00m\n\u001b[1;32m    200\u001b[0m     \u001b[38;5;66;03m# its expected flow.\u001b[39;00m\n",
      "File \u001b[0;32m~/anaconda3/lib/python3.12/site-packages/sqlalchemy/dialects/postgresql/asyncpg.py:550\u001b[0m, in \u001b[0;36mAsyncAdapt_asyncpg_cursor._prepare_and_execute\u001b[0;34m(self, operation, parameters)\u001b[0m\n\u001b[1;32m    549\u001b[0m \u001b[38;5;28;01mexcept\u001b[39;00m \u001b[38;5;167;01mException\u001b[39;00m \u001b[38;5;28;01mas\u001b[39;00m error:\n\u001b[0;32m--> 550\u001b[0m     \u001b[38;5;28mself\u001b[39m\u001b[38;5;241m.\u001b[39m_handle_exception(error)\n",
      "File \u001b[0;32m~/anaconda3/lib/python3.12/site-packages/sqlalchemy/dialects/postgresql/asyncpg.py:501\u001b[0m, in \u001b[0;36mAsyncAdapt_asyncpg_cursor._handle_exception\u001b[0;34m(self, error)\u001b[0m\n\u001b[1;32m    500\u001b[0m \u001b[38;5;28;01mdef\u001b[39;00m \u001b[38;5;21m_handle_exception\u001b[39m(\u001b[38;5;28mself\u001b[39m, error):\n\u001b[0;32m--> 501\u001b[0m     \u001b[38;5;28mself\u001b[39m\u001b[38;5;241m.\u001b[39m_adapt_connection\u001b[38;5;241m.\u001b[39m_handle_exception(error)\n",
      "File \u001b[0;32m~/anaconda3/lib/python3.12/site-packages/sqlalchemy/dialects/postgresql/asyncpg.py:784\u001b[0m, in \u001b[0;36mAsyncAdapt_asyncpg_connection._handle_exception\u001b[0;34m(self, error)\u001b[0m\n\u001b[1;32m    781\u001b[0m         translated_error\u001b[38;5;241m.\u001b[39mpgcode \u001b[38;5;241m=\u001b[39m translated_error\u001b[38;5;241m.\u001b[39msqlstate \u001b[38;5;241m=\u001b[39m (\n\u001b[1;32m    782\u001b[0m             \u001b[38;5;28mgetattr\u001b[39m(error, \u001b[38;5;124m\"\u001b[39m\u001b[38;5;124msqlstate\u001b[39m\u001b[38;5;124m\"\u001b[39m, \u001b[38;5;28;01mNone\u001b[39;00m)\n\u001b[1;32m    783\u001b[0m         )\n\u001b[0;32m--> 784\u001b[0m         \u001b[38;5;28;01mraise\u001b[39;00m translated_error \u001b[38;5;28;01mfrom\u001b[39;00m \u001b[38;5;21;01merror\u001b[39;00m\n\u001b[1;32m    785\u001b[0m \u001b[38;5;28;01melse\u001b[39;00m:\n",
      "\u001b[0;31mProgrammingError\u001b[0m: <class 'asyncpg.exceptions.UndefinedTableError'>: relation \"version\" does not exist",
      "\nThe above exception was the direct cause of the following exception:\n",
      "\u001b[0;31mProgrammingError\u001b[0m                          Traceback (most recent call last)",
      "Cell \u001b[0;32mIn[21], line 1\u001b[0m\n\u001b[0;32m----> 1\u001b[0m \u001b[38;5;28;01mawait\u001b[39;00m open_request(\u001b[38;5;124m\"\u001b[39m\u001b[38;5;124mselect * from version;\u001b[39m\u001b[38;5;124m\"\u001b[39m)\n",
      "File \u001b[0;32m~/workshop/literary_stuff/pedro_paramo/pedro_paramo/dissection_table/database/ask_db.py:36\u001b[0m, in \u001b[0;36mopen_request\u001b[0;34m(sql_question, params, fetch_as_dict)\u001b[0m\n\u001b[1;32m     33\u001b[0m \u001b[38;5;28;01mtry\u001b[39;00m:\n\u001b[1;32m     34\u001b[0m     \u001b[38;5;66;03m# Use async with session.begin() to start and manage a transaction\u001b[39;00m\n\u001b[1;32m     35\u001b[0m     \u001b[38;5;28;01masync\u001b[39;00m \u001b[38;5;28;01mwith\u001b[39;00m session\u001b[38;5;241m.\u001b[39mbegin():\n\u001b[0;32m---> 36\u001b[0m         result \u001b[38;5;241m=\u001b[39m \u001b[38;5;28;01mawait\u001b[39;00m session\u001b[38;5;241m.\u001b[39mexecute(text(sql_question), params)\n\u001b[1;32m     38\u001b[0m         \u001b[38;5;28;01mif\u001b[39;00m result\u001b[38;5;241m.\u001b[39mreturns_rows:\n\u001b[1;32m     39\u001b[0m             \u001b[38;5;28;01mif\u001b[39;00m fetch_as_dict:\n",
      "File \u001b[0;32m~/anaconda3/lib/python3.12/site-packages/sqlalchemy/ext/asyncio/session.py:461\u001b[0m, in \u001b[0;36mAsyncSession.execute\u001b[0;34m(self, statement, params, execution_options, bind_arguments, **kw)\u001b[0m\n\u001b[1;32m    458\u001b[0m \u001b[38;5;28;01melse\u001b[39;00m:\n\u001b[1;32m    459\u001b[0m     execution_options \u001b[38;5;241m=\u001b[39m _EXECUTE_OPTIONS\n\u001b[0;32m--> 461\u001b[0m result \u001b[38;5;241m=\u001b[39m \u001b[38;5;28;01mawait\u001b[39;00m greenlet_spawn(\n\u001b[1;32m    462\u001b[0m     \u001b[38;5;28mself\u001b[39m\u001b[38;5;241m.\u001b[39msync_session\u001b[38;5;241m.\u001b[39mexecute,\n\u001b[1;32m    463\u001b[0m     statement,\n\u001b[1;32m    464\u001b[0m     params\u001b[38;5;241m=\u001b[39mparams,\n\u001b[1;32m    465\u001b[0m     execution_options\u001b[38;5;241m=\u001b[39mexecution_options,\n\u001b[1;32m    466\u001b[0m     bind_arguments\u001b[38;5;241m=\u001b[39mbind_arguments,\n\u001b[1;32m    467\u001b[0m     \u001b[38;5;241m*\u001b[39m\u001b[38;5;241m*\u001b[39mkw,\n\u001b[1;32m    468\u001b[0m )\n\u001b[1;32m    469\u001b[0m \u001b[38;5;28;01mreturn\u001b[39;00m \u001b[38;5;28;01mawait\u001b[39;00m _ensure_sync_result(result, \u001b[38;5;28mself\u001b[39m\u001b[38;5;241m.\u001b[39mexecute)\n",
      "File \u001b[0;32m~/anaconda3/lib/python3.12/site-packages/sqlalchemy/util/_concurrency_py3k.py:201\u001b[0m, in \u001b[0;36mgreenlet_spawn\u001b[0;34m(fn, _require_await, *args, **kwargs)\u001b[0m\n\u001b[1;32m    196\u001b[0m     value \u001b[38;5;241m=\u001b[39m \u001b[38;5;28;01mawait\u001b[39;00m result\n\u001b[1;32m    197\u001b[0m \u001b[38;5;28;01mexcept\u001b[39;00m \u001b[38;5;167;01mBaseException\u001b[39;00m:\n\u001b[1;32m    198\u001b[0m     \u001b[38;5;66;03m# this allows an exception to be raised within\u001b[39;00m\n\u001b[1;32m    199\u001b[0m     \u001b[38;5;66;03m# the moderated greenlet so that it can continue\u001b[39;00m\n\u001b[1;32m    200\u001b[0m     \u001b[38;5;66;03m# its expected flow.\u001b[39;00m\n\u001b[0;32m--> 201\u001b[0m     result \u001b[38;5;241m=\u001b[39m context\u001b[38;5;241m.\u001b[39mthrow(\u001b[38;5;241m*\u001b[39msys\u001b[38;5;241m.\u001b[39mexc_info())\n\u001b[1;32m    202\u001b[0m \u001b[38;5;28;01melse\u001b[39;00m:\n\u001b[1;32m    203\u001b[0m     result \u001b[38;5;241m=\u001b[39m context\u001b[38;5;241m.\u001b[39mswitch(value)\n",
      "File \u001b[0;32m~/anaconda3/lib/python3.12/site-packages/sqlalchemy/orm/session.py:2362\u001b[0m, in \u001b[0;36mSession.execute\u001b[0;34m(self, statement, params, execution_options, bind_arguments, _parent_execute_state, _add_event)\u001b[0m\n\u001b[1;32m   2301\u001b[0m \u001b[38;5;28;01mdef\u001b[39;00m \u001b[38;5;21mexecute\u001b[39m(\n\u001b[1;32m   2302\u001b[0m     \u001b[38;5;28mself\u001b[39m,\n\u001b[1;32m   2303\u001b[0m     statement: Executable,\n\u001b[0;32m   (...)\u001b[0m\n\u001b[1;32m   2309\u001b[0m     _add_event: Optional[Any] \u001b[38;5;241m=\u001b[39m \u001b[38;5;28;01mNone\u001b[39;00m,\n\u001b[1;32m   2310\u001b[0m ) \u001b[38;5;241m-\u001b[39m\u001b[38;5;241m>\u001b[39m Result[Any]:\n\u001b[1;32m   2311\u001b[0m \u001b[38;5;250m    \u001b[39m\u001b[38;5;124mr\u001b[39m\u001b[38;5;124;03m\"\"\"Execute a SQL expression construct.\u001b[39;00m\n\u001b[1;32m   2312\u001b[0m \n\u001b[1;32m   2313\u001b[0m \u001b[38;5;124;03m    Returns a :class:`_engine.Result` object representing\u001b[39;00m\n\u001b[0;32m   (...)\u001b[0m\n\u001b[1;32m   2360\u001b[0m \n\u001b[1;32m   2361\u001b[0m \u001b[38;5;124;03m    \"\"\"\u001b[39;00m\n\u001b[0;32m-> 2362\u001b[0m     \u001b[38;5;28;01mreturn\u001b[39;00m \u001b[38;5;28mself\u001b[39m\u001b[38;5;241m.\u001b[39m_execute_internal(\n\u001b[1;32m   2363\u001b[0m         statement,\n\u001b[1;32m   2364\u001b[0m         params,\n\u001b[1;32m   2365\u001b[0m         execution_options\u001b[38;5;241m=\u001b[39mexecution_options,\n\u001b[1;32m   2366\u001b[0m         bind_arguments\u001b[38;5;241m=\u001b[39mbind_arguments,\n\u001b[1;32m   2367\u001b[0m         _parent_execute_state\u001b[38;5;241m=\u001b[39m_parent_execute_state,\n\u001b[1;32m   2368\u001b[0m         _add_event\u001b[38;5;241m=\u001b[39m_add_event,\n\u001b[1;32m   2369\u001b[0m     )\n",
      "File \u001b[0;32m~/anaconda3/lib/python3.12/site-packages/sqlalchemy/orm/session.py:2256\u001b[0m, in \u001b[0;36mSession._execute_internal\u001b[0;34m(self, statement, params, execution_options, bind_arguments, _parent_execute_state, _add_event, _scalar_result)\u001b[0m\n\u001b[1;32m   2247\u001b[0m     result: Result[Any] \u001b[38;5;241m=\u001b[39m compile_state_cls\u001b[38;5;241m.\u001b[39morm_execute_statement(\n\u001b[1;32m   2248\u001b[0m         \u001b[38;5;28mself\u001b[39m,\n\u001b[1;32m   2249\u001b[0m         statement,\n\u001b[0;32m   (...)\u001b[0m\n\u001b[1;32m   2253\u001b[0m         conn,\n\u001b[1;32m   2254\u001b[0m     )\n\u001b[1;32m   2255\u001b[0m \u001b[38;5;28;01melse\u001b[39;00m:\n\u001b[0;32m-> 2256\u001b[0m     result \u001b[38;5;241m=\u001b[39m conn\u001b[38;5;241m.\u001b[39mexecute(\n\u001b[1;32m   2257\u001b[0m         statement, params \u001b[38;5;129;01mor\u001b[39;00m {}, execution_options\u001b[38;5;241m=\u001b[39mexecution_options\n\u001b[1;32m   2258\u001b[0m     )\n\u001b[1;32m   2260\u001b[0m \u001b[38;5;28;01mif\u001b[39;00m _scalar_result:\n\u001b[1;32m   2261\u001b[0m     \u001b[38;5;28;01mreturn\u001b[39;00m result\u001b[38;5;241m.\u001b[39mscalar()\n",
      "File \u001b[0;32m~/anaconda3/lib/python3.12/site-packages/sqlalchemy/engine/base.py:1418\u001b[0m, in \u001b[0;36mConnection.execute\u001b[0;34m(self, statement, parameters, execution_options)\u001b[0m\n\u001b[1;32m   1416\u001b[0m     \u001b[38;5;28;01mraise\u001b[39;00m exc\u001b[38;5;241m.\u001b[39mObjectNotExecutableError(statement) \u001b[38;5;28;01mfrom\u001b[39;00m \u001b[38;5;21;01merr\u001b[39;00m\n\u001b[1;32m   1417\u001b[0m \u001b[38;5;28;01melse\u001b[39;00m:\n\u001b[0;32m-> 1418\u001b[0m     \u001b[38;5;28;01mreturn\u001b[39;00m meth(\n\u001b[1;32m   1419\u001b[0m         \u001b[38;5;28mself\u001b[39m,\n\u001b[1;32m   1420\u001b[0m         distilled_parameters,\n\u001b[1;32m   1421\u001b[0m         execution_options \u001b[38;5;129;01mor\u001b[39;00m NO_OPTIONS,\n\u001b[1;32m   1422\u001b[0m     )\n",
      "File \u001b[0;32m~/anaconda3/lib/python3.12/site-packages/sqlalchemy/sql/elements.py:515\u001b[0m, in \u001b[0;36mClauseElement._execute_on_connection\u001b[0;34m(self, connection, distilled_params, execution_options)\u001b[0m\n\u001b[1;32m    513\u001b[0m     \u001b[38;5;28;01mif\u001b[39;00m TYPE_CHECKING:\n\u001b[1;32m    514\u001b[0m         \u001b[38;5;28;01massert\u001b[39;00m \u001b[38;5;28misinstance\u001b[39m(\u001b[38;5;28mself\u001b[39m, Executable)\n\u001b[0;32m--> 515\u001b[0m     \u001b[38;5;28;01mreturn\u001b[39;00m connection\u001b[38;5;241m.\u001b[39m_execute_clauseelement(\n\u001b[1;32m    516\u001b[0m         \u001b[38;5;28mself\u001b[39m, distilled_params, execution_options\n\u001b[1;32m    517\u001b[0m     )\n\u001b[1;32m    518\u001b[0m \u001b[38;5;28;01melse\u001b[39;00m:\n\u001b[1;32m    519\u001b[0m     \u001b[38;5;28;01mraise\u001b[39;00m exc\u001b[38;5;241m.\u001b[39mObjectNotExecutableError(\u001b[38;5;28mself\u001b[39m)\n",
      "File \u001b[0;32m~/anaconda3/lib/python3.12/site-packages/sqlalchemy/engine/base.py:1640\u001b[0m, in \u001b[0;36mConnection._execute_clauseelement\u001b[0;34m(self, elem, distilled_parameters, execution_options)\u001b[0m\n\u001b[1;32m   1628\u001b[0m compiled_cache: Optional[CompiledCacheType] \u001b[38;5;241m=\u001b[39m execution_options\u001b[38;5;241m.\u001b[39mget(\n\u001b[1;32m   1629\u001b[0m     \u001b[38;5;124m\"\u001b[39m\u001b[38;5;124mcompiled_cache\u001b[39m\u001b[38;5;124m\"\u001b[39m, \u001b[38;5;28mself\u001b[39m\u001b[38;5;241m.\u001b[39mengine\u001b[38;5;241m.\u001b[39m_compiled_cache\n\u001b[1;32m   1630\u001b[0m )\n\u001b[1;32m   1632\u001b[0m compiled_sql, extracted_params, cache_hit \u001b[38;5;241m=\u001b[39m elem\u001b[38;5;241m.\u001b[39m_compile_w_cache(\n\u001b[1;32m   1633\u001b[0m     dialect\u001b[38;5;241m=\u001b[39mdialect,\n\u001b[1;32m   1634\u001b[0m     compiled_cache\u001b[38;5;241m=\u001b[39mcompiled_cache,\n\u001b[0;32m   (...)\u001b[0m\n\u001b[1;32m   1638\u001b[0m     linting\u001b[38;5;241m=\u001b[39m\u001b[38;5;28mself\u001b[39m\u001b[38;5;241m.\u001b[39mdialect\u001b[38;5;241m.\u001b[39mcompiler_linting \u001b[38;5;241m|\u001b[39m compiler\u001b[38;5;241m.\u001b[39mWARN_LINTING,\n\u001b[1;32m   1639\u001b[0m )\n\u001b[0;32m-> 1640\u001b[0m ret \u001b[38;5;241m=\u001b[39m \u001b[38;5;28mself\u001b[39m\u001b[38;5;241m.\u001b[39m_execute_context(\n\u001b[1;32m   1641\u001b[0m     dialect,\n\u001b[1;32m   1642\u001b[0m     dialect\u001b[38;5;241m.\u001b[39mexecution_ctx_cls\u001b[38;5;241m.\u001b[39m_init_compiled,\n\u001b[1;32m   1643\u001b[0m     compiled_sql,\n\u001b[1;32m   1644\u001b[0m     distilled_parameters,\n\u001b[1;32m   1645\u001b[0m     execution_options,\n\u001b[1;32m   1646\u001b[0m     compiled_sql,\n\u001b[1;32m   1647\u001b[0m     distilled_parameters,\n\u001b[1;32m   1648\u001b[0m     elem,\n\u001b[1;32m   1649\u001b[0m     extracted_params,\n\u001b[1;32m   1650\u001b[0m     cache_hit\u001b[38;5;241m=\u001b[39mcache_hit,\n\u001b[1;32m   1651\u001b[0m )\n\u001b[1;32m   1652\u001b[0m \u001b[38;5;28;01mif\u001b[39;00m has_events:\n\u001b[1;32m   1653\u001b[0m     \u001b[38;5;28mself\u001b[39m\u001b[38;5;241m.\u001b[39mdispatch\u001b[38;5;241m.\u001b[39mafter_execute(\n\u001b[1;32m   1654\u001b[0m         \u001b[38;5;28mself\u001b[39m,\n\u001b[1;32m   1655\u001b[0m         elem,\n\u001b[0;32m   (...)\u001b[0m\n\u001b[1;32m   1659\u001b[0m         ret,\n\u001b[1;32m   1660\u001b[0m     )\n",
      "File \u001b[0;32m~/anaconda3/lib/python3.12/site-packages/sqlalchemy/engine/base.py:1846\u001b[0m, in \u001b[0;36mConnection._execute_context\u001b[0;34m(self, dialect, constructor, statement, parameters, execution_options, *args, **kw)\u001b[0m\n\u001b[1;32m   1844\u001b[0m     \u001b[38;5;28;01mreturn\u001b[39;00m \u001b[38;5;28mself\u001b[39m\u001b[38;5;241m.\u001b[39m_exec_insertmany_context(dialect, context)\n\u001b[1;32m   1845\u001b[0m \u001b[38;5;28;01melse\u001b[39;00m:\n\u001b[0;32m-> 1846\u001b[0m     \u001b[38;5;28;01mreturn\u001b[39;00m \u001b[38;5;28mself\u001b[39m\u001b[38;5;241m.\u001b[39m_exec_single_context(\n\u001b[1;32m   1847\u001b[0m         dialect, context, statement, parameters\n\u001b[1;32m   1848\u001b[0m     )\n",
      "File \u001b[0;32m~/anaconda3/lib/python3.12/site-packages/sqlalchemy/engine/base.py:1986\u001b[0m, in \u001b[0;36mConnection._exec_single_context\u001b[0;34m(self, dialect, context, statement, parameters)\u001b[0m\n\u001b[1;32m   1983\u001b[0m     result \u001b[38;5;241m=\u001b[39m context\u001b[38;5;241m.\u001b[39m_setup_result_proxy()\n\u001b[1;32m   1985\u001b[0m \u001b[38;5;28;01mexcept\u001b[39;00m \u001b[38;5;167;01mBaseException\u001b[39;00m \u001b[38;5;28;01mas\u001b[39;00m e:\n\u001b[0;32m-> 1986\u001b[0m     \u001b[38;5;28mself\u001b[39m\u001b[38;5;241m.\u001b[39m_handle_dbapi_exception(\n\u001b[1;32m   1987\u001b[0m         e, str_statement, effective_parameters, cursor, context\n\u001b[1;32m   1988\u001b[0m     )\n\u001b[1;32m   1990\u001b[0m \u001b[38;5;28;01mreturn\u001b[39;00m result\n",
      "File \u001b[0;32m~/anaconda3/lib/python3.12/site-packages/sqlalchemy/engine/base.py:2355\u001b[0m, in \u001b[0;36mConnection._handle_dbapi_exception\u001b[0;34m(self, e, statement, parameters, cursor, context, is_sub_exec)\u001b[0m\n\u001b[1;32m   2353\u001b[0m \u001b[38;5;28;01melif\u001b[39;00m should_wrap:\n\u001b[1;32m   2354\u001b[0m     \u001b[38;5;28;01massert\u001b[39;00m sqlalchemy_exception \u001b[38;5;129;01mis\u001b[39;00m \u001b[38;5;129;01mnot\u001b[39;00m \u001b[38;5;28;01mNone\u001b[39;00m\n\u001b[0;32m-> 2355\u001b[0m     \u001b[38;5;28;01mraise\u001b[39;00m sqlalchemy_exception\u001b[38;5;241m.\u001b[39mwith_traceback(exc_info[\u001b[38;5;241m2\u001b[39m]) \u001b[38;5;28;01mfrom\u001b[39;00m \u001b[38;5;21;01me\u001b[39;00m\n\u001b[1;32m   2356\u001b[0m \u001b[38;5;28;01melse\u001b[39;00m:\n\u001b[1;32m   2357\u001b[0m     \u001b[38;5;28;01massert\u001b[39;00m exc_info[\u001b[38;5;241m1\u001b[39m] \u001b[38;5;129;01mis\u001b[39;00m \u001b[38;5;129;01mnot\u001b[39;00m \u001b[38;5;28;01mNone\u001b[39;00m\n",
      "File \u001b[0;32m~/anaconda3/lib/python3.12/site-packages/sqlalchemy/engine/base.py:1967\u001b[0m, in \u001b[0;36mConnection._exec_single_context\u001b[0;34m(self, dialect, context, statement, parameters)\u001b[0m\n\u001b[1;32m   1965\u001b[0m                 \u001b[38;5;28;01mbreak\u001b[39;00m\n\u001b[1;32m   1966\u001b[0m     \u001b[38;5;28;01mif\u001b[39;00m \u001b[38;5;129;01mnot\u001b[39;00m evt_handled:\n\u001b[0;32m-> 1967\u001b[0m         \u001b[38;5;28mself\u001b[39m\u001b[38;5;241m.\u001b[39mdialect\u001b[38;5;241m.\u001b[39mdo_execute(\n\u001b[1;32m   1968\u001b[0m             cursor, str_statement, effective_parameters, context\n\u001b[1;32m   1969\u001b[0m         )\n\u001b[1;32m   1971\u001b[0m \u001b[38;5;28;01mif\u001b[39;00m \u001b[38;5;28mself\u001b[39m\u001b[38;5;241m.\u001b[39m_has_events \u001b[38;5;129;01mor\u001b[39;00m \u001b[38;5;28mself\u001b[39m\u001b[38;5;241m.\u001b[39mengine\u001b[38;5;241m.\u001b[39m_has_events:\n\u001b[1;32m   1972\u001b[0m     \u001b[38;5;28mself\u001b[39m\u001b[38;5;241m.\u001b[39mdispatch\u001b[38;5;241m.\u001b[39mafter_cursor_execute(\n\u001b[1;32m   1973\u001b[0m         \u001b[38;5;28mself\u001b[39m,\n\u001b[1;32m   1974\u001b[0m         cursor,\n\u001b[0;32m   (...)\u001b[0m\n\u001b[1;32m   1978\u001b[0m         context\u001b[38;5;241m.\u001b[39mexecutemany,\n\u001b[1;32m   1979\u001b[0m     )\n",
      "File \u001b[0;32m~/anaconda3/lib/python3.12/site-packages/sqlalchemy/engine/default.py:941\u001b[0m, in \u001b[0;36mDefaultDialect.do_execute\u001b[0;34m(self, cursor, statement, parameters, context)\u001b[0m\n\u001b[1;32m    940\u001b[0m \u001b[38;5;28;01mdef\u001b[39;00m \u001b[38;5;21mdo_execute\u001b[39m(\u001b[38;5;28mself\u001b[39m, cursor, statement, parameters, context\u001b[38;5;241m=\u001b[39m\u001b[38;5;28;01mNone\u001b[39;00m):\n\u001b[0;32m--> 941\u001b[0m     cursor\u001b[38;5;241m.\u001b[39mexecute(statement, parameters)\n",
      "File \u001b[0;32m~/anaconda3/lib/python3.12/site-packages/sqlalchemy/dialects/postgresql/asyncpg.py:572\u001b[0m, in \u001b[0;36mAsyncAdapt_asyncpg_cursor.execute\u001b[0;34m(self, operation, parameters)\u001b[0m\n\u001b[1;32m    571\u001b[0m \u001b[38;5;28;01mdef\u001b[39;00m \u001b[38;5;21mexecute\u001b[39m(\u001b[38;5;28mself\u001b[39m, operation, parameters\u001b[38;5;241m=\u001b[39m\u001b[38;5;28;01mNone\u001b[39;00m):\n\u001b[0;32m--> 572\u001b[0m     \u001b[38;5;28mself\u001b[39m\u001b[38;5;241m.\u001b[39m_adapt_connection\u001b[38;5;241m.\u001b[39mawait_(\n\u001b[1;32m    573\u001b[0m         \u001b[38;5;28mself\u001b[39m\u001b[38;5;241m.\u001b[39m_prepare_and_execute(operation, parameters)\n\u001b[1;32m    574\u001b[0m     )\n",
      "File \u001b[0;32m~/anaconda3/lib/python3.12/site-packages/sqlalchemy/util/_concurrency_py3k.py:132\u001b[0m, in \u001b[0;36mawait_only\u001b[0;34m(awaitable)\u001b[0m\n\u001b[1;32m    123\u001b[0m     \u001b[38;5;28;01mraise\u001b[39;00m exc\u001b[38;5;241m.\u001b[39mMissingGreenlet(\n\u001b[1;32m    124\u001b[0m         \u001b[38;5;124m\"\u001b[39m\u001b[38;5;124mgreenlet_spawn has not been called; can\u001b[39m\u001b[38;5;124m'\u001b[39m\u001b[38;5;124mt call await_only() \u001b[39m\u001b[38;5;124m\"\u001b[39m\n\u001b[1;32m    125\u001b[0m         \u001b[38;5;124m\"\u001b[39m\u001b[38;5;124mhere. Was IO attempted in an unexpected place?\u001b[39m\u001b[38;5;124m\"\u001b[39m\n\u001b[1;32m    126\u001b[0m     )\n\u001b[1;32m    128\u001b[0m \u001b[38;5;66;03m# returns the control to the driver greenlet passing it\u001b[39;00m\n\u001b[1;32m    129\u001b[0m \u001b[38;5;66;03m# a coroutine to run. Once the awaitable is done, the driver greenlet\u001b[39;00m\n\u001b[1;32m    130\u001b[0m \u001b[38;5;66;03m# switches back to this greenlet with the result of awaitable that is\u001b[39;00m\n\u001b[1;32m    131\u001b[0m \u001b[38;5;66;03m# then returned to the caller (or raised as error)\u001b[39;00m\n\u001b[0;32m--> 132\u001b[0m \u001b[38;5;28;01mreturn\u001b[39;00m current\u001b[38;5;241m.\u001b[39mparent\u001b[38;5;241m.\u001b[39mswitch(awaitable)\n",
      "File \u001b[0;32m~/anaconda3/lib/python3.12/site-packages/sqlalchemy/util/_concurrency_py3k.py:196\u001b[0m, in \u001b[0;36mgreenlet_spawn\u001b[0;34m(fn, _require_await, *args, **kwargs)\u001b[0m\n\u001b[1;32m    192\u001b[0m switch_occurred \u001b[38;5;241m=\u001b[39m \u001b[38;5;28;01mTrue\u001b[39;00m\n\u001b[1;32m    193\u001b[0m \u001b[38;5;28;01mtry\u001b[39;00m:\n\u001b[1;32m    194\u001b[0m     \u001b[38;5;66;03m# wait for a coroutine from await_only and then return its\u001b[39;00m\n\u001b[1;32m    195\u001b[0m     \u001b[38;5;66;03m# result back to it.\u001b[39;00m\n\u001b[0;32m--> 196\u001b[0m     value \u001b[38;5;241m=\u001b[39m \u001b[38;5;28;01mawait\u001b[39;00m result\n\u001b[1;32m    197\u001b[0m \u001b[38;5;28;01mexcept\u001b[39;00m \u001b[38;5;167;01mBaseException\u001b[39;00m:\n\u001b[1;32m    198\u001b[0m     \u001b[38;5;66;03m# this allows an exception to be raised within\u001b[39;00m\n\u001b[1;32m    199\u001b[0m     \u001b[38;5;66;03m# the moderated greenlet so that it can continue\u001b[39;00m\n\u001b[1;32m    200\u001b[0m     \u001b[38;5;66;03m# its expected flow.\u001b[39;00m\n\u001b[1;32m    201\u001b[0m     result \u001b[38;5;241m=\u001b[39m context\u001b[38;5;241m.\u001b[39mthrow(\u001b[38;5;241m*\u001b[39msys\u001b[38;5;241m.\u001b[39mexc_info())\n",
      "File \u001b[0;32m~/anaconda3/lib/python3.12/site-packages/sqlalchemy/dialects/postgresql/asyncpg.py:550\u001b[0m, in \u001b[0;36mAsyncAdapt_asyncpg_cursor._prepare_and_execute\u001b[0;34m(self, operation, parameters)\u001b[0m\n\u001b[1;32m    547\u001b[0m             \u001b[38;5;28mself\u001b[39m\u001b[38;5;241m.\u001b[39mrowcount \u001b[38;5;241m=\u001b[39m \u001b[38;5;241m-\u001b[39m\u001b[38;5;241m1\u001b[39m\n\u001b[1;32m    549\u001b[0m \u001b[38;5;28;01mexcept\u001b[39;00m \u001b[38;5;167;01mException\u001b[39;00m \u001b[38;5;28;01mas\u001b[39;00m error:\n\u001b[0;32m--> 550\u001b[0m     \u001b[38;5;28mself\u001b[39m\u001b[38;5;241m.\u001b[39m_handle_exception(error)\n",
      "File \u001b[0;32m~/anaconda3/lib/python3.12/site-packages/sqlalchemy/dialects/postgresql/asyncpg.py:501\u001b[0m, in \u001b[0;36mAsyncAdapt_asyncpg_cursor._handle_exception\u001b[0;34m(self, error)\u001b[0m\n\u001b[1;32m    500\u001b[0m \u001b[38;5;28;01mdef\u001b[39;00m \u001b[38;5;21m_handle_exception\u001b[39m(\u001b[38;5;28mself\u001b[39m, error):\n\u001b[0;32m--> 501\u001b[0m     \u001b[38;5;28mself\u001b[39m\u001b[38;5;241m.\u001b[39m_adapt_connection\u001b[38;5;241m.\u001b[39m_handle_exception(error)\n",
      "File \u001b[0;32m~/anaconda3/lib/python3.12/site-packages/sqlalchemy/dialects/postgresql/asyncpg.py:784\u001b[0m, in \u001b[0;36mAsyncAdapt_asyncpg_connection._handle_exception\u001b[0;34m(self, error)\u001b[0m\n\u001b[1;32m    778\u001b[0m         translated_error \u001b[38;5;241m=\u001b[39m exception_mapping[super_](\n\u001b[1;32m    779\u001b[0m             \u001b[38;5;124m\"\u001b[39m\u001b[38;5;132;01m%s\u001b[39;00m\u001b[38;5;124m: \u001b[39m\u001b[38;5;132;01m%s\u001b[39;00m\u001b[38;5;124m\"\u001b[39m \u001b[38;5;241m%\u001b[39m (\u001b[38;5;28mtype\u001b[39m(error), error)\n\u001b[1;32m    780\u001b[0m         )\n\u001b[1;32m    781\u001b[0m         translated_error\u001b[38;5;241m.\u001b[39mpgcode \u001b[38;5;241m=\u001b[39m translated_error\u001b[38;5;241m.\u001b[39msqlstate \u001b[38;5;241m=\u001b[39m (\n\u001b[1;32m    782\u001b[0m             \u001b[38;5;28mgetattr\u001b[39m(error, \u001b[38;5;124m\"\u001b[39m\u001b[38;5;124msqlstate\u001b[39m\u001b[38;5;124m\"\u001b[39m, \u001b[38;5;28;01mNone\u001b[39;00m)\n\u001b[1;32m    783\u001b[0m         )\n\u001b[0;32m--> 784\u001b[0m         \u001b[38;5;28;01mraise\u001b[39;00m translated_error \u001b[38;5;28;01mfrom\u001b[39;00m \u001b[38;5;21;01merror\u001b[39;00m\n\u001b[1;32m    785\u001b[0m \u001b[38;5;28;01melse\u001b[39;00m:\n\u001b[1;32m    786\u001b[0m     \u001b[38;5;28;01mraise\u001b[39;00m error\n",
      "\u001b[0;31mProgrammingError\u001b[0m: (sqlalchemy.dialects.postgresql.asyncpg.ProgrammingError) <class 'asyncpg.exceptions.UndefinedTableError'>: relation \"version\" does not exist\n[SQL: select * from version;]\n(Background on this error at: https://sqlalche.me/e/20/f405)"
     ]
    }
   ],
   "source": [
    "await open_request(\"select * from version;\")"
   ]
  },
  {
   "cell_type": "code",
   "execution_count": null,
   "id": "b94a95df-8c74-4d5a-8ed6-7bb39a4d7efa",
   "metadata": {},
   "outputs": [],
   "source": []
  },
  {
   "cell_type": "code",
   "execution_count": null,
   "id": "02f49055-7036-448c-934e-b71a20ed601f",
   "metadata": {},
   "outputs": [],
   "source": []
  },
  {
   "cell_type": "code",
   "execution_count": 7,
   "id": "17d37175-f8c8-4a8f-a14a-b672899631ef",
   "metadata": {},
   "outputs": [
    {
     "data": {
      "text/plain": [
       "<dissection_table.database.models.Version at 0x710df42de0f0>"
      ]
     },
     "execution_count": 7,
     "metadata": {},
     "output_type": "execute_result"
    }
   ],
   "source": []
  },
  {
   "cell_type": "code",
   "execution_count": null,
   "id": "870619af-022b-4ff0-8211-773524169683",
   "metadata": {},
   "outputs": [],
   "source": []
  },
  {
   "cell_type": "code",
   "execution_count": null,
   "id": "cd057e8b-18b6-4931-ab23-2cc91110469f",
   "metadata": {},
   "outputs": [],
   "source": []
  },
  {
   "cell_type": "code",
   "execution_count": null,
   "id": "504c61b1-3f6d-4df3-b61c-bdd3a67bdc02",
   "metadata": {},
   "outputs": [],
   "source": [
    "game_interface.create_all(games_list)"
   ]
  },
  {
   "cell_type": "code",
   "execution_count": null,
   "id": "7ca33084-5ec7-4461-8eba-0f1d2969f0ae",
   "metadata": {},
   "outputs": [],
   "source": []
  },
  {
   "cell_type": "code",
   "execution_count": null,
   "id": "d44d72aa-2668-4631-bd58-0385c4b60211",
   "metadata": {},
   "outputs": [],
   "source": []
  },
  {
   "cell_type": "code",
   "execution_count": null,
   "id": "c53fbc2d-672d-45d5-bd64-8529f9ec53a8",
   "metadata": {},
   "outputs": [],
   "source": []
  },
  {
   "cell_type": "code",
   "execution_count": 2,
   "id": "337d180d-9314-4137-b2d7-bc5ab9d0bc61",
   "metadata": {},
   "outputs": [],
   "source": [
    "s = version(source = \"portuguese_1\")"
   ]
  },
  {
   "cell_type": "code",
   "execution_count": null,
   "id": "e0bd5b7d-9834-46dc-951c-9563005796e0",
   "metadata": {},
   "outputs": [],
   "source": []
  },
  {
   "cell_type": "code",
   "execution_count": null,
   "id": "f4f0e20e-201c-4b7a-a255-9548562e32a5",
   "metadata": {},
   "outputs": [],
   "source": []
  },
  {
   "cell_type": "code",
   "execution_count": 73,
   "id": "1c932363-86b3-4499-850f-65f9272aacae",
   "metadata": {},
   "outputs": [],
   "source": [
    "def _get_metadata(version:str = None):\n",
    "    source = sources[version]\n",
    "    source_items = list(source.get_items_of_type(ebooklib.ITEM_DOCUMENT))\n",
    "    metadata = []\n",
    "\n",
    "    for ind,item in enumerate(source_items):\n",
    "        data_text = BeautifulSoup(item.get_body_content(), 'html.parser')\n",
    "        paragraphs = [para.get_text() for para in data_text.find_all('p')]\n",
    "        paragraphs = [x.replace('\\xa0', '') for x in paragraphs]\n",
    "        if len(paragraphs) == 0:\n",
    "            continue\n",
    "        if len(paragraphs) > 100:\n",
    "            raw += paragraphs\n",
    "            continue\n",
    "        metadata += [f\"########## ITEM {ind}\"]\n",
    "        metadata += paragraphs\n",
    "    return metadata\n",
    "        \n",
    "portugues_1_hard_coded_data = {}\n",
    "portugues_1_hard_coded_data[\"metadata\"] = _get_metadata(version = \"portuguese_1\")\n",
    "portugues_1_hard_coded_data[\"author\"] = \"Eric Nepomuceno\"\n",
    "portugues_1_hard_coded_data[\"year\"] = 2009\n",
    "portugues_1_hard_coded_data[\"editorial\"] = \"Edições BestBolso\"\n",
    "portugues_1_hard_coded_data[\"ISBN\"] = 9788577991167\n",
    "\n",
    "spanish_1_hard_coded_data = {}\n",
    "spanish_1_hard_coded_data[\"metadata\"] = \"NO_METADATA\"\n",
    "spanish_1_hard_coded_data[\"author\"] = \"Juan Rulfo\"\n",
    "spanish_1_hard_coded_data[\"year\"] = 1955\n",
    "spanish_1_hard_coded_data[\"editorial\"] = \"www.elejandria.com\"\n",
    "spanish_1_hard_coded_data[\"ISBN\"] = None\n",
    "\n",
    "spanish_2_hard_coded_data = {}\n",
    "spanish_2_hard_coded_data[\"metadata\"] = _get_metadata(version = \"spanish_2\")\n",
    "spanish_2_hard_coded_data[\"author\"] = \"Juan Rulfo\"\n",
    "spanish_2_hard_coded_data[\"year\"] = 2011\n",
    "spanish_2_hard_coded_data[\"editorial\"] = \"feather\"\n",
    "spanish_2_hard_coded_data[\"ISBN\"] = None\n",
    "\n",
    "english_1_hard_coded_data = {}\n",
    "english_1_hard_coded_data[\"metadata\"] = _get_metadata(version = \"english_1\")\n",
    "english_1_hard_coded_data[\"author\"] = \"Margaret Sayers Peden\"\n",
    "english_1_hard_coded_data[\"year\"] = 1994\n",
    "english_1_hard_coded_data[\"editorial\"] = \"Grove Press\"\n",
    "english_1_hard_coded_data[\"ISBN\"] = 9780802133908\n",
    "\n",
    "english_2_hard_coded_data = {}\n",
    "english_2_hard_coded_data[\"metadata\"] = _get_metadata(version = \"english_2\")\n",
    "english_2_hard_coded_data[\"author\"] = \"Douglas J. Weatherford\"\n",
    "english_2_hard_coded_data[\"year\"] = 2023\n",
    "english_2_hard_coded_data[\"editorial\"] = \"Grove Press\"\n",
    "english_2_hard_coded_data[\"ISBN\"] = 9780802160935\n",
    "\n",
    "italian_1_hard_coded_data = {}\n",
    "italian_1_hard_coded_data[\"metadata\"] = _get_metadata(version = \"italian_1\")\n",
    "italian_1_hard_coded_data[\"author\"] = \"Paolo Collo\"\n",
    "italian_1_hard_coded_data[\"year\"] = 2014\n",
    "italian_1_hard_coded_data[\"editorial\"] = \"Giulio Einaudi editore s.p.a.\"\n",
    "italian_1_hard_coded_data[\"ISBN\"] = 9788858440247\n",
    "\n",
    "french_1_hard_coded_data = {}\n",
    "french_1_hard_coded_data[\"metadata\"] = _get_metadata(version = \"french_1\")\n",
    "french_1_hard_coded_data[\"author\"] = \"Gabriel Iaculli\"\n",
    "french_1_hard_coded_data[\"year\"] = 2005\n",
    "french_1_hard_coded_data[\"editorial\"] = \"Éditions Gallimard, 2005,\"\n",
    "french_1_hard_coded_data[\"ISBN\"] = 9782070379538\n"
   ]
  },
  {
   "cell_type": "code",
   "execution_count": 74,
   "id": "a5fc5577-0df8-4d0d-b324-507ddd8e31cc",
   "metadata": {},
   "outputs": [
    {
     "data": {
      "text/plain": [
       "['########## ITEM 2',\n",
       " 'JUAN RULFO',\n",
       " '',\n",
       " 'PEDRO PÁRAMO',\n",
       " '',\n",
       " 'roman',\n",
       " '',\n",
       " '',\n",
       " '',\n",
       " 'Nouvelle traduction de l’espagnol (Mexique)',\n",
       " 'par Gabriel Iaculli',\n",
       " '',\n",
       " '',\n",
       " '',\n",
       " 'nrf',\n",
       " 'GALLIMARD',\n",
       " '',\n",
       " '',\n",
       " '',\n",
       " '',\n",
       " '',\n",
       " '',\n",
       " '',\n",
       " '',\n",
       " '',\n",
       " '',\n",
       " '',\n",
       " '',\n",
       " '',\n",
       " '',\n",
       " '',\n",
       " '',\n",
       " '',\n",
       " '',\n",
       " '',\n",
       " '',\n",
       " 'Titre original:',\n",
       " 'PEDRO PÁRAMO',\n",
       " '© Heirs of Juan Rulfo, 1955.',\n",
       " '© Éditions Gallimard, 2005, pour la traduction française.']"
      ]
     },
     "execution_count": 74,
     "metadata": {},
     "output_type": "execute_result"
    }
   ],
   "source": [
    "french_1_hard_coded_data[\"metadata\"][0]"
   ]
  },
  {
   "cell_type": "code",
   "execution_count": null,
   "id": "1e4b97f8-7560-482c-b837-7e8473435005",
   "metadata": {},
   "outputs": [],
   "source": []
  },
  {
   "cell_type": "code",
   "execution_count": null,
   "id": "3ab5a898-f3d1-4181-84b3-4a5ed8b351a4",
   "metadata": {},
   "outputs": [],
   "source": []
  },
  {
   "cell_type": "code",
   "execution_count": null,
   "id": "2c0c586d-c59e-46c4-adfd-9ecd2865cb8c",
   "metadata": {},
   "outputs": [],
   "source": []
  },
  {
   "cell_type": "code",
   "execution_count": null,
   "id": "89ad3ad1-a6de-4196-b1c3-2ce337426ba7",
   "metadata": {},
   "outputs": [],
   "source": []
  },
  {
   "cell_type": "code",
   "execution_count": 34,
   "id": "8e408c08-514d-431a-ba81-53c6360d5e79",
   "metadata": {},
   "outputs": [],
   "source": [
    "source = sources[\"spanish_1\"]\n",
    "source_items = list(source.get_items_of_type(ebooklib.ITEM_DOCUMENT))"
   ]
  },
  {
   "cell_type": "code",
   "execution_count": 35,
   "id": "a3461bf4-bc33-41a0-973a-5bdbebe84c44",
   "metadata": {},
   "outputs": [],
   "source": [
    "data_text = BeautifulSoup(source_items[0].get_body_content(), 'html.parser')"
   ]
  },
  {
   "cell_type": "code",
   "execution_count": 36,
   "id": "83663185-cb56-4ab2-9693-4a05bd6990b3",
   "metadata": {},
   "outputs": [],
   "source": [
    "paragraphs = [para.get_text() for para in data_text.find_all('p')]\n",
    "paragraphs = [x.replace('\\xa0', '') for x in paragraphs]"
   ]
  },
  {
   "cell_type": "code",
   "execution_count": 41,
   "id": "1333ad9c-6ceb-49cf-b3f3-a9e60fd450fb",
   "metadata": {},
   "outputs": [
    {
     "data": {
      "text/plain": [
       "['—Voy para allá. Ya voy.',\n",
       " 'Se apoyó en los brazos de Damiana Cisneros e hizo intento de caminar. Después de unos cuantos pasos cayó, suplicando por dentro; pero sin decir una sola palabra. Dio un golpe seco contra la tierra y se fue desmoronando como si fuera un montón de piedras.',\n",
       " '',\n",
       " '',\n",
       " '']"
      ]
     },
     "execution_count": 41,
     "metadata": {},
     "output_type": "execute_result"
    }
   ],
   "source": [
    "paragraphs[-5:]"
   ]
  },
  {
   "cell_type": "code",
   "execution_count": 28,
   "id": "3338e7b9-4baf-455e-a081-f078bc5023a6",
   "metadata": {},
   "outputs": [
    {
     "data": {
      "text/plain": [
       "0"
      ]
     },
     "execution_count": 28,
     "metadata": {},
     "output_type": "execute_result"
    }
   ],
   "source": [
    "len(paragraphs)"
   ]
  },
  {
   "cell_type": "code",
   "execution_count": 33,
   "id": "9e1a62e1-7b8c-46fa-85df-77668cc83164",
   "metadata": {},
   "outputs": [
    {
     "data": {
      "text/plain": [
       "[<ebooklib.epub.EpubHtml at 0x7094de58db80>,\n",
       " <ebooklib.epub.EpubHtml at 0x7094de58e180>]"
      ]
     },
     "execution_count": 33,
     "metadata": {},
     "output_type": "execute_result"
    }
   ],
   "source": [
    "source_items"
   ]
  },
  {
   "cell_type": "code",
   "execution_count": null,
   "id": "442c5fbf-ebfd-4bc9-a6a2-40fe10092610",
   "metadata": {},
   "outputs": [],
   "source": []
  },
  {
   "cell_type": "code",
   "execution_count": null,
   "id": "2965b718-a0a3-43ff-9628-a4249d732134",
   "metadata": {},
   "outputs": [],
   "source": []
  },
  {
   "cell_type": "code",
   "execution_count": null,
   "id": "36da2e16-1b8f-4d3e-98c9-fdee842726ec",
   "metadata": {},
   "outputs": [],
   "source": [
    "_get_metadata(\"portuguese_1\")"
   ]
  },
  {
   "cell_type": "code",
   "execution_count": null,
   "id": "e15d231e-25d4-48ea-b53a-454acb516626",
   "metadata": {},
   "outputs": [],
   "source": []
  },
  {
   "cell_type": "code",
   "execution_count": null,
   "id": "aeabcef3-0968-4365-92fd-18157db10f16",
   "metadata": {},
   "outputs": [],
   "source": []
  },
  {
   "cell_type": "code",
   "execution_count": 12,
   "id": "bd1a396e-742d-4ec5-bf4b-1605f96dea8e",
   "metadata": {},
   "outputs": [],
   "source": [
    "def get_metadata(version:str = None):\n",
    "    source = sources[version]\n",
    "    metadata = []\n",
    "    for ind, turn in enumerate([3,4,5,7]):\n",
    "        data_text = list(source.get_items_of_type(ebooklib.ITEM_DOCUMENT))[turn]\n",
    "        data_text = BeautifulSoup(data_text.get_body_content(), 'html.parser')\n",
    "        paragraphs = [para.get_text() for para in data_text.find_all('p')]\n",
    "        paragraphs = [x.replace('\\xa0', '') for x in paragraphs]\n",
    "        metadata += [f\"########## ITEM {ind}\"]\n",
    "        metadata += paragraphs\n",
    "    return \"\\n\".join([x for x in metadata])\n",
    "\n",
    "portugues_hard_coded_data = {}\n",
    "portugues_hard_coded_data[\"author\"] = \"Eric Nepomuceno\"\n",
    "portugues_hard_coded_data[\"year\"] = 2009\n",
    "portugues_hard_coded_data[\"editorial\"] = \"Edições BestBolso\"\n",
    "portugues_hard_coded_data[\"ISBN\"] = 9788577991167\n",
    "portugues_hard_coded_data[\"metadata\"] = get_metadata(version = \"portuguese_1\")\n"
   ]
  },
  {
   "cell_type": "code",
   "execution_count": null,
   "id": "b1743779-4936-43a0-9997-14ee1ac004a9",
   "metadata": {},
   "outputs": [],
   "source": []
  },
  {
   "cell_type": "code",
   "execution_count": null,
   "id": "42abeec9-29fd-482e-92e3-c4425f883174",
   "metadata": {},
   "outputs": [],
   "source": []
  },
  {
   "cell_type": "code",
   "execution_count": null,
   "id": "666fd816-78c2-430c-a947-64d7273f2f1e",
   "metadata": {},
   "outputs": [],
   "source": []
  },
  {
   "cell_type": "code",
   "execution_count": null,
   "id": "b06e63a7-dd19-481c-9c99-29dfe42b5300",
   "metadata": {},
   "outputs": [],
   "source": [
    "print(portugues_hard_coded_data[\"metadata\"])"
   ]
  },
  {
   "cell_type": "code",
   "execution_count": null,
   "id": "ddbe5cdd-9fc3-4174-8f7b-c187f84558b6",
   "metadata": {},
   "outputs": [],
   "source": []
  },
  {
   "cell_type": "code",
   "execution_count": 63,
   "id": "5b4a6682-6d6d-4bb5-a067-086db22ff273",
   "metadata": {},
   "outputs": [],
   "source": [
    "source = sources[\"portuguese_1\"]"
   ]
  },
  {
   "cell_type": "code",
   "execution_count": 64,
   "id": "69e008f5-2352-48f5-b0e8-7b4c3f44d4dc",
   "metadata": {},
   "outputs": [],
   "source": [
    "whole_text = list(source.get_items_of_type(ebooklib.ITEM_DOCUMENT))[7]\n",
    "whole_text = BeautifulSoup(whole_text.get_body_content(), 'html.parser')"
   ]
  },
  {
   "cell_type": "code",
   "execution_count": 65,
   "id": "f2656a31-ee49-4e90-9c61-085473e77bbd",
   "metadata": {},
   "outputs": [],
   "source": [
    "paragraphs = [para.get_text() for para in whole_text.find_all('p')]\n",
    "paragraphs = [x.replace('\\xa0', '') for x in paragraphs]"
   ]
  },
  {
   "cell_type": "code",
   "execution_count": 66,
   "id": "15bd3de5-8711-441b-92be-b661a1d0a4ff",
   "metadata": {},
   "outputs": [],
   "source": [
    "essay_about = paragraphs #3+4+5+7"
   ]
  },
  {
   "cell_type": "code",
   "execution_count": 67,
   "id": "5cb878d4-b736-4337-95bd-b03c0a01e25a",
   "metadata": {},
   "outputs": [
    {
     "data": {
      "text/plain": [
       "['Você pode adquirir os títulos da BestBolso através do Marketing Direto do Grupo Editorial Record.',\n",
       " '• Telefone: (21) 2585-2002',\n",
       " '(de segunda a sexta-feira, das 8h30 às 18h)',\n",
       " '• E-mail: mdireto@record.com.br',\n",
       " '• Fax: (21) 2585-2010',\n",
       " 'Entre em contato conosco caso tenha alguma dúvida, precise de informações ou queira se cadastrar para receber nossos informativos de lançamentos e promoções.',\n",
       " 'Nossos sites:',\n",
       " 'www.edicoesbestbolso.com.br',\n",
       " 'www.record.com.br']"
      ]
     },
     "execution_count": 67,
     "metadata": {},
     "output_type": "execute_result"
    }
   ],
   "source": [
    "paragraphs"
   ]
  },
  {
   "cell_type": "code",
   "execution_count": null,
   "id": "058ec7e9-93f6-4c02-8bda-fa89745ef074",
   "metadata": {},
   "outputs": [],
   "source": []
  },
  {
   "cell_type": "code",
   "execution_count": null,
   "id": "6dce1ec4-bcb8-4da1-b2c5-838ea3782c37",
   "metadata": {},
   "outputs": [],
   "source": []
  },
  {
   "cell_type": "code",
   "execution_count": 47,
   "id": "4318d853-9128-4c68-bf8c-6a8582529971",
   "metadata": {},
   "outputs": [],
   "source": [
    "metadata = '\\n'.join([x for x in paragraphs]) #3"
   ]
  },
  {
   "cell_type": "code",
   "execution_count": null,
   "id": "3b8262d4-4366-4195-9dbe-64d72175699f",
   "metadata": {},
   "outputs": [],
   "source": []
  },
  {
   "cell_type": "code",
   "execution_count": null,
   "id": "caed4956-6281-45f4-918f-b3fc0a64b642",
   "metadata": {},
   "outputs": [],
   "source": []
  },
  {
   "cell_type": "code",
   "execution_count": null,
   "id": "22c8f67c-6195-44be-a5ac-6fb4694ea6d9",
   "metadata": {},
   "outputs": [],
   "source": []
  },
  {
   "cell_type": "code",
   "execution_count": null,
   "id": "0746025e-c227-4f96-a17d-53d7a7501ab0",
   "metadata": {},
   "outputs": [],
   "source": []
  },
  {
   "cell_type": "code",
   "execution_count": 2,
   "id": "afaabfd2-1b80-48c6-bd20-b5f03a5fea12",
   "metadata": {},
   "outputs": [
    {
     "name": "stdout",
     "output_type": "stream",
     "text": [
      "VERSION :: pipi :: not found, returning original: \"spanish_1\"\n"
     ]
    }
   ],
   "source": [
    "bad_version = version(\"pipi\")"
   ]
  },
  {
   "cell_type": "code",
   "execution_count": 3,
   "id": "07defa74-2d67-42cb-8ea1-72c4ad2316db",
   "metadata": {},
   "outputs": [],
   "source": [
    "portuguese = version('portuguese_1')"
   ]
  },
  {
   "cell_type": "code",
   "execution_count": 4,
   "id": "2a8ea0cc-3893-42e6-804c-de13d84407f8",
   "metadata": {},
   "outputs": [
    {
     "data": {
      "text/plain": [
       "'VIM A COMALA porque me disseram que aqui vivia meu pai, um tal de Pedro Páramo.'"
      ]
     },
     "execution_count": 4,
     "metadata": {},
     "output_type": "execute_result"
    }
   ],
   "source": [
    "portuguese[0]"
   ]
  },
  {
   "cell_type": "code",
   "execution_count": 5,
   "id": "0462b717-9d45-4d03-9496-762fa980d3cd",
   "metadata": {},
   "outputs": [],
   "source": [
    "spanish_1 = version(\"spanish_1\")"
   ]
  },
  {
   "cell_type": "code",
   "execution_count": 6,
   "id": "76a0b953-0c40-45fc-a108-6fe9461d0b2b",
   "metadata": {},
   "outputs": [
    {
     "data": {
      "text/plain": [
       "'Vine a Comala porque me dijeron que acá vivía mi padre, un tal Pedro Páramo. Mi madre me lo dijo. Y yo le prometí que vendría a verlo en cuanto ella muriera. Le apreté sus manos en señal de que lo haría; pues ella estaba por morirse y yo en plan de prometerlo todo. «No dejes de ir a visitarlo —me recomendó—. Se llama de otro modo y de este otro. Estoy segura de que le dará gusto conocerte». Entonces no pude hacer otra cosa sino decirle que así lo haría, y de tanto decírselo se lo seguí diciendo aun después que a mis manos les costó trabajo zafarse de sus manos muertas.'"
      ]
     },
     "execution_count": 6,
     "metadata": {},
     "output_type": "execute_result"
    }
   ],
   "source": [
    "spanish_1[0]"
   ]
  },
  {
   "cell_type": "code",
   "execution_count": 7,
   "id": "2c254307-c3e6-45bc-b558-e6e3a9ce00e0",
   "metadata": {},
   "outputs": [],
   "source": [
    "spanish_2 = version(\"spanish_2\")"
   ]
  },
  {
   "cell_type": "code",
   "execution_count": 8,
   "id": "b86f832f-f0f4-4334-9be8-97dcf1061ec6",
   "metadata": {},
   "outputs": [
    {
     "data": {
      "text/plain": [
       "'Vine a Comala porque me dijeron que acá vivía mi padre, un tal Pedro Páramo. Mi madre me lo dijo. Y yo le prometí que vendría a verlo en cuanto ella muriera. Le apreté sus manos en señal de que lo haría; pues ella estaba por morirse y yo en plan de prometerlo todo. «No dejes de ir a visitarlo —me recomendó—. Se llama de otro modo y de este otro. Estoy segura de que le dará gusto conocerte.» Entonces no pude hacer otra cosa sino decirle que así lo haría, y de tanto decírselo se lo seguí diciendo aun después que a mis manos les costó trabajo zafarse de sus manos muertas.'"
      ]
     },
     "execution_count": 8,
     "metadata": {},
     "output_type": "execute_result"
    }
   ],
   "source": [
    "spanish_2[0]"
   ]
  },
  {
   "cell_type": "code",
   "execution_count": 9,
   "id": "ee4dec14-5b8c-46ce-905c-341bbfd69c10",
   "metadata": {},
   "outputs": [],
   "source": [
    "english_1 = version(\"english_1\")"
   ]
  },
  {
   "cell_type": "code",
   "execution_count": 10,
   "id": "dceb576a-f2c3-4b0c-a1fc-80adc2590deb",
   "metadata": {},
   "outputs": [
    {
     "data": {
      "text/plain": [
       "\"He supported himself on Damiana Cisnero's arm and tried to walk. After a few steps he fell; inside, he was begging for help, but no words were audible. He fell to the ground with a thud, and lay there, collapsed like a pile of rocks.\""
      ]
     },
     "execution_count": 10,
     "metadata": {},
     "output_type": "execute_result"
    }
   ],
   "source": [
    "english_1[-1]"
   ]
  },
  {
   "cell_type": "code",
   "execution_count": 11,
   "id": "73074cc4-9a4c-4bb5-9a07-7598a364f42c",
   "metadata": {},
   "outputs": [],
   "source": [
    "english_2 = version(\"english_2\")"
   ]
  },
  {
   "cell_type": "code",
   "execution_count": 12,
   "id": "7733c822-186c-43e7-bdc2-df70f29df34d",
   "metadata": {},
   "outputs": [
    {
     "data": {
      "text/plain": [
       "'He supported himself on Damiana Cisneros’s arms and tried to walk. After a few steps he fell, pleading on the inside, but without saying a word. He hit the ground with a hollow thud, crumbling as if he were a pile of rocks.'"
      ]
     },
     "execution_count": 12,
     "metadata": {},
     "output_type": "execute_result"
    }
   ],
   "source": [
    "english_2[-1]"
   ]
  },
  {
   "cell_type": "code",
   "execution_count": 13,
   "id": "f7d30c8e-7498-4140-b09f-5af68eba28dd",
   "metadata": {},
   "outputs": [],
   "source": [
    "italian_1 = version(\"italian_1\")"
   ]
  },
  {
   "cell_type": "code",
   "execution_count": 14,
   "id": "e883ba16-df9b-4ffc-9606-ade92cff0db3",
   "metadata": {},
   "outputs": [
    {
     "data": {
      "text/plain": [
       "'Si appoggiò alle braccia di Damiana Cisneros e provò a camminare. Dopo pochi passi cadde, supplicando dentro di sé; ma senza dire una sola parola. Diede un colpo secco contro la terra e si sgretolò come se fosse un mucchio di pietre.'"
      ]
     },
     "execution_count": 14,
     "metadata": {},
     "output_type": "execute_result"
    }
   ],
   "source": [
    "italian_1[-1]"
   ]
  },
  {
   "cell_type": "code",
   "execution_count": 15,
   "id": "6d6adad9-6c87-42b1-855a-9b6c11332f20",
   "metadata": {},
   "outputs": [],
   "source": [
    "french_1 = version(\"french_1\")"
   ]
  },
  {
   "cell_type": "code",
   "execution_count": 16,
   "id": "220bb380-c247-4c6c-9c5c-b556fed72f7b",
   "metadata": {},
   "outputs": [
    {
     "data": {
      "text/plain": [
       "'Je suis venu à Comala parce que j’ai appris que mon père, un certain Pedro Páramo, y vivait. C’est ma mère qui me l’a dit. Et je lui ai promis d’aller le voir quand elle serait morte. J’ai pressé ses mains pour lui assurer que je le ferais; elle se mourait et j’étais prêt à lui promettre n’importe quoi. «Ne manque pas d’aller le trouver, m’a-t-elle recommandé. Il porte tel prénom et tel nom. Je suis sûre qu’il sera content de te connaître.» Dans ces conditions, il a bien fallu lui dire que je n’y manquerais pas, et, à force de le lui répéter, j’y étais encore après avoir, non sans peine, détaché mes mains de ses mains mortes.'"
      ]
     },
     "execution_count": 16,
     "metadata": {},
     "output_type": "execute_result"
    }
   ],
   "source": [
    "french_1[0]"
   ]
  },
  {
   "cell_type": "code",
   "execution_count": 22,
   "id": "45fca066-fea0-4cf4-9ad4-cbc98e52a431",
   "metadata": {},
   "outputs": [
    {
     "data": {
      "text/plain": [
       "False"
      ]
     },
     "execution_count": 22,
     "metadata": {},
     "output_type": "execute_result"
    }
   ],
   "source": [
    "\"\\xa0\" in french_1[-1]"
   ]
  },
  {
   "cell_type": "code",
   "execution_count": null,
   "id": "e68e33b6-5001-4c2c-9421-4c65a8cefaca",
   "metadata": {},
   "outputs": [],
   "source": []
  },
  {
   "cell_type": "code",
   "execution_count": null,
   "id": "51c8eb33-b26d-41ad-a016-a790d965380b",
   "metadata": {},
   "outputs": [],
   "source": []
  },
  {
   "cell_type": "code",
   "execution_count": null,
   "id": "17f769e9-860a-43f6-9fd1-1ec3e31adf95",
   "metadata": {},
   "outputs": [],
   "source": []
  },
  {
   "cell_type": "code",
   "execution_count": 72,
   "id": "58a04c5e-dafe-427a-809c-227a1fbe1d66",
   "metadata": {},
   "outputs": [],
   "source": [
    "source = sources[\"french_1\"]"
   ]
  },
  {
   "cell_type": "code",
   "execution_count": 73,
   "id": "eb3b7079-e3db-491b-8cfe-5350994cb13e",
   "metadata": {},
   "outputs": [],
   "source": [
    "general = list(source.get_items_of_type(ebooklib.ITEM_DOCUMENT))"
   ]
  },
  {
   "cell_type": "code",
   "execution_count": 74,
   "id": "5c9a6fcc-e6f5-4146-9750-23707f6606a7",
   "metadata": {},
   "outputs": [],
   "source": [
    "a = BeautifulSoup(general[3].get_body_content(), 'html.parser')\n",
    "b = BeautifulSoup(general[4].get_body_content(), 'html.parser')"
   ]
  },
  {
   "cell_type": "code",
   "execution_count": 75,
   "id": "fb6a31e5-5a0d-4649-b2b6-40ad3b708706",
   "metadata": {},
   "outputs": [],
   "source": [
    "b = [para.get_text() for para in b.find_all('p')]"
   ]
  },
  {
   "cell_type": "code",
   "execution_count": 79,
   "id": "87a5fbac-b041-45fd-82ef-7f8c373f4afe",
   "metadata": {},
   "outputs": [
    {
     "data": {
      "text/plain": [
       "'Il s’est appuyé sur le bras de Damiana Cisneros et a essayé de marcher. Après avoir fait quelques pas, il est tombé, une supplication tout au fond de lui-même, mais sans dire un mot. Il a heurté la terre d’un coup sec et s’est écroulé comme un tas de pierres.'"
      ]
     },
     "execution_count": 79,
     "metadata": {},
     "output_type": "execute_result"
    }
   ],
   "source": [
    "b[-1]"
   ]
  },
  {
   "cell_type": "code",
   "execution_count": null,
   "id": "bd83c27e-d237-4bb6-a53d-1bbb10ba54d7",
   "metadata": {},
   "outputs": [],
   "source": []
  },
  {
   "cell_type": "code",
   "execution_count": 77,
   "id": "579ace0d-d40d-4a5c-be50-716909b9f407",
   "metadata": {},
   "outputs": [],
   "source": [
    "a = [para.get_text() for para in a.find_all('p')]"
   ]
  },
  {
   "cell_type": "code",
   "execution_count": 80,
   "id": "3fe6414a-2dd9-4afa-8050-b9eef7e74c01",
   "metadata": {},
   "outputs": [],
   "source": [
    "complete = a[4:] + b"
   ]
  },
  {
   "cell_type": "code",
   "execution_count": 82,
   "id": "2e68aace-847e-4550-a3f1-360809288374",
   "metadata": {},
   "outputs": [
    {
     "data": {
      "text/plain": [
       "'Il s’est appuyé sur le bras de Damiana Cisneros et a essayé de marcher. Après avoir fait quelques pas, il est tombé, une supplication tout au fond de lui-même, mais sans dire un mot. Il a heurté la terre d’un coup sec et s’est écroulé comme un tas de pierres.'"
      ]
     },
     "execution_count": 82,
     "metadata": {},
     "output_type": "execute_result"
    }
   ],
   "source": [
    "complete[-1]"
   ]
  },
  {
   "cell_type": "code",
   "execution_count": null,
   "id": "ded4bc85-f60e-46c1-80c7-18391a3f0d6a",
   "metadata": {},
   "outputs": [],
   "source": []
  },
  {
   "cell_type": "code",
   "execution_count": null,
   "id": "af8aed8a-9cb7-4864-adf8-18a5c401443e",
   "metadata": {},
   "outputs": [],
   "source": []
  },
  {
   "cell_type": "code",
   "execution_count": null,
   "id": "59075040-401e-4ae2-a691-7586dd1d1b22",
   "metadata": {},
   "outputs": [],
   "source": []
  },
  {
   "cell_type": "code",
   "execution_count": null,
   "id": "90f8feaf-19eb-4d6c-8b5d-d8dd98a47d0f",
   "metadata": {},
   "outputs": [],
   "source": [
    "source = sources[\"spanish_2\"]\n",
    "        whole_text = list(source.get_items_of_type(ebooklib.ITEM_DOCUMENT))[0]\n",
    "        whole_text = BeautifulSoup(whole_text.get_body_content(), 'html.parser')\n",
    "        paragraphs = [para.get_text() for para in whole_text.find_all('p')][:-3]\n",
    "        return paragraphs[1:]"
   ]
  },
  {
   "cell_type": "code",
   "execution_count": null,
   "id": "26caf70a-bbd6-4143-a864-0a3b3f364e43",
   "metadata": {},
   "outputs": [],
   "source": []
  },
  {
   "cell_type": "code",
   "execution_count": null,
   "id": "bf2efb4d-75e2-4f75-9b76-c3ad1ceed30b",
   "metadata": {},
   "outputs": [],
   "source": []
  },
  {
   "cell_type": "code",
   "execution_count": null,
   "id": "c99dde19-58e0-457f-8591-8a1a68420c7f",
   "metadata": {},
   "outputs": [],
   "source": []
  },
  {
   "cell_type": "code",
   "execution_count": null,
   "id": "f7f954ed-0fb2-41d8-a7cd-5e35a96c0454",
   "metadata": {},
   "outputs": [],
   "source": []
  },
  {
   "cell_type": "code",
   "execution_count": null,
   "id": "a532fe0b-c398-4c86-9888-fd7acc0b2f0a",
   "metadata": {},
   "outputs": [],
   "source": []
  },
  {
   "cell_type": "code",
   "execution_count": null,
   "id": "f6c99fee-d3f7-49b9-82dd-32517e94ae5a",
   "metadata": {},
   "outputs": [],
   "source": []
  },
  {
   "cell_type": "code",
   "execution_count": 6,
   "id": "59154d7e-9583-4d9c-ae3e-fdc349282218",
   "metadata": {},
   "outputs": [],
   "source": [
    "whole_text = list(source.get_items_of_type(ebooklib.ITEM_DOCUMENT))        "
   ]
  },
  {
   "cell_type": "code",
   "execution_count": 7,
   "id": "e127b392-96e6-4c3b-9bb8-3eb6581fb2f5",
   "metadata": {},
   "outputs": [],
   "source": [
    "text = BeautifulSoup(whole_text[0].get_body_content(), 'html.parser')"
   ]
  },
  {
   "cell_type": "code",
   "execution_count": 9,
   "id": "69793904-60a2-4436-81a1-c3609066a9b5",
   "metadata": {},
   "outputs": [],
   "source": [
    "paragraphs = [para.get_text() for para in text.find_all('p')]"
   ]
  },
  {
   "cell_type": "code",
   "execution_count": 17,
   "id": "21fecbda-4102-4e02-9b8a-37daf997d88f",
   "metadata": {},
   "outputs": [
    {
     "data": {
      "text/plain": [
       "['—Voy para allá. Ya voy.',\n",
       " 'Se apoyó en los brazos de Damiana Cisneros e hizo intento de caminar. Después de unos cuantos pasos cayó, suplicando por dentro; pero sin decir una sola palabra. Dio un golpe seco contra la tierra y se fue desmoronando como si fuera un montón de piedras.']"
      ]
     },
     "execution_count": 17,
     "metadata": {},
     "output_type": "execute_result"
    }
   ],
   "source": [
    "paragraphs[:-3]"
   ]
  },
  {
   "cell_type": "code",
   "execution_count": null,
   "id": "c81110a0-60a2-47a5-aa17-2fbe5fbf4a1f",
   "metadata": {},
   "outputs": [],
   "source": []
  },
  {
   "cell_type": "code",
   "execution_count": null,
   "id": "e708f2d5-ec50-4802-a254-4e9302c66572",
   "metadata": {},
   "outputs": [],
   "source": []
  },
  {
   "cell_type": "code",
   "execution_count": null,
   "id": "4c11cef1-be2f-4730-b369-37d8391f234a",
   "metadata": {},
   "outputs": [],
   "source": [
    "whole_text = BeautifulSoup(whole_text.get_body_content(), 'html.parser')\n",
    "        paragraphs = [para.get_text() for para in whole_text.find_all('p')][:-2]"
   ]
  },
  {
   "cell_type": "code",
   "execution_count": null,
   "id": "9ec9757f-0134-4dc2-b00d-9bb502955acd",
   "metadata": {},
   "outputs": [],
   "source": []
  },
  {
   "cell_type": "code",
   "execution_count": 3,
   "id": "5cd4dcb2-5c26-4139-bdaa-21c92ee40caf",
   "metadata": {},
   "outputs": [
    {
     "data": {
      "text/plain": [
       "{'portuguese_1': <ebooklib.epub.EpubBook at 0x75d97777a420>,\n",
       " 'spanish_1': <ebooklib.epub.EpubBook at 0x75d9653ffe00>,\n",
       " 'spanish_2': <ebooklib.epub.EpubBook at 0x75d9653721b0>,\n",
       " 'english_1': <ebooklib.epub.EpubBook at 0x75d964e3deb0>,\n",
       " 'english_2': <ebooklib.epub.EpubBook at 0x75d964e3e810>,\n",
       " 'italian_1': <ebooklib.epub.EpubBook at 0x75d964e3e8d0>,\n",
       " 'french_1': <ebooklib.epub.EpubBook at 0x75d964e3fe90>}"
      ]
     },
     "execution_count": 3,
     "metadata": {},
     "output_type": "execute_result"
    }
   ],
   "source": [
    "sources"
   ]
  },
  {
   "cell_type": "code",
   "execution_count": 7,
   "id": "ff3052fe-f2be-4420-8c94-bab46962f956",
   "metadata": {},
   "outputs": [],
   "source": [
    "a = list(sources[\"spanish_1\"].get_items_of_type(ebooklib.ITEM_DOCUMENT))"
   ]
  },
  {
   "cell_type": "code",
   "execution_count": null,
   "id": "98b25053-03d7-4fcc-8db6-84666273ffb3",
   "metadata": {},
   "outputs": [],
   "source": [
    "BeautifulSoup(a[0].get_body_content(), 'html.parser')"
   ]
  },
  {
   "cell_type": "code",
   "execution_count": null,
   "id": "9b9e23db-8630-42ae-80b9-92e0f1058f44",
   "metadata": {},
   "outputs": [],
   "source": []
  },
  {
   "cell_type": "code",
   "execution_count": null,
   "id": "0d31365f-3e9b-4477-9c23-24541e41b65c",
   "metadata": {},
   "outputs": [],
   "source": []
  },
  {
   "cell_type": "code",
   "execution_count": null,
   "id": "7e794417-0e4c-4fb0-9c7a-be97b358f120",
   "metadata": {},
   "outputs": [],
   "source": []
  },
  {
   "cell_type": "code",
   "execution_count": null,
   "id": "4c89319a-5cce-4e99-9edf-802ac36da498",
   "metadata": {},
   "outputs": [],
   "source": []
  },
  {
   "cell_type": "code",
   "execution_count": null,
   "id": "364b5f6e-e39b-42bf-9208-f249ab263482",
   "metadata": {},
   "outputs": [],
   "source": []
  },
  {
   "cell_type": "code",
   "execution_count": 12,
   "id": "c880190a-8681-46f1-8296-707a7873befc",
   "metadata": {},
   "outputs": [
    {
     "data": {
      "text/plain": [
       "'Apoiou-se nos braços de Damiana Cisneros e fez a tentativa de caminhar. Depois de alguns tantos passos caiu, suplicando por dentro; mas sem dizer uma única palavra. Deu uma batida seca contra a terra e foi se desmoronando como se fosse um montão de pedras.'"
      ]
     },
     "execution_count": 12,
     "metadata": {},
     "output_type": "execute_result"
    }
   ],
   "source": [
    "spanish_1[-3]"
   ]
  },
  {
   "cell_type": "code",
   "execution_count": null,
   "id": "3efe4f79-3a4d-475b-a320-e2a4b6c40c38",
   "metadata": {},
   "outputs": [],
   "source": [
    "def get_raw_portugues(potuguese_source: dict= {}):\n",
    "    whole_text = list(potuguese_source.get_items_of_type(ebooklib.ITEM_DOCUMENT))[6]\n",
    "    whole_text = BeautifulSoup(whole_text.get_body_content(), 'html.parser')\n",
    "    paragraphs = [para.get_text() for para in whole_text.find_all('p')]\n",
    "    return paragraphs"
   ]
  },
  {
   "cell_type": "code",
   "execution_count": null,
   "id": "854087ce-634a-4097-a00b-947ea0451031",
   "metadata": {},
   "outputs": [],
   "source": []
  },
  {
   "cell_type": "code",
   "execution_count": null,
   "id": "91cc0463-03f9-4a42-aab5-75b093dc9da6",
   "metadata": {},
   "outputs": [],
   "source": []
  },
  {
   "cell_type": "code",
   "execution_count": null,
   "id": "7e5ee5de-967e-41da-ae37-0094653a5d89",
   "metadata": {},
   "outputs": [],
   "source": []
  },
  {
   "cell_type": "code",
   "execution_count": 2,
   "id": "c1bfea8e-22b2-477a-8dfa-ad716111faee",
   "metadata": {},
   "outputs": [
    {
     "name": "stderr",
     "output_type": "stream",
     "text": [
      "/home/jon/anaconda3/lib/python3.12/site-packages/ebooklib/epub.py:1347: FutureWarning: This search incorrectly ignores the root element, and will be fixed in a future version.  If you rely on the current behaviour, change it to './/xmlns:rootfile[@media-type]'\n",
      "  for root_file in tree.findall('//xmlns:rootfile[@media-type]', namespaces={'xmlns': NAMESPACES['CONTAINERNS']}):\n"
     ]
    }
   ],
   "source": [
    "potuguese_source = epub.read_epub(\"dissection_table/database/sources/Pedro Páramo (Juan Rulfo [Rulfo, Juan])_portugues_(Z-Library).epub\")\n",
    "spanish_source_1 = epub.read_epub(\"dissection_table/database/sources/Pedro Paramo (Juan Rulfo)_espanol_(Z-Library).epub\")\n",
    "spanish_source_2 = epub.read_epub(\"dissection_table/database/sources/Pedro Páramo (Juan Rulfo)_first_espanol_(Z-Library).epub\")\n",
    "english_source_1 = epub.read_epub(\"dissection_table/database/sources/Pedro Paramo (Juan Rulfo)_peden_(Z-Library).epub\")\n",
    "english_source_2 = epub.read_epub(\"dissection_table/database/sources/Pedro Paramo (Juan Rulfo)_weatherford_ (Z-Library).epub\")\n",
    "italian_source_1 = epub.read_epub(\"dissection_table/database/sources/Pedro Páramo (Juan Rulfo)_italian_(Z-Library).epub\")\n",
    "frech_source_1   = epub.read_epub(\"dissection_table/database/sources/Pedro Páramo (Juan Rulfo)_french_(Z-Library).epub\")"
   ]
  },
  {
   "cell_type": "code",
   "execution_count": 14,
   "id": "3246550e-87a0-4cce-9ac4-426bcdcdb76f",
   "metadata": {},
   "outputs": [],
   "source": [
    "# items = list(potuguese_source.get_items_of_type(ebooklib.ITEM_DOCUMENT))\n",
    "\n",
    "# o_items = BeautifulSoup(items[6].get_body_content(), 'html.parser')\n",
    "\n",
    "# p_p = [para.get_text() for para in o_items.find_all('p')]"
   ]
  },
  {
   "cell_type": "code",
   "execution_count": 3,
   "id": "1921cad5-b8a1-4750-bc89-45572917aa00",
   "metadata": {},
   "outputs": [],
   "source": [
    "from bs4 import BeautifulSoup\n",
    "def chapter_to_str(chapter):\n",
    "    soup = BeautifulSoup(chapter.get_body_content(), 'html.parser')\n",
    "    text = [para.get_text() for para in soup.find_all('p')]\n",
    "    return text"
   ]
  },
  {
   "cell_type": "code",
   "execution_count": 6,
   "id": "d9e97239-6cd9-4ebb-bf4b-170a43c2d6e6",
   "metadata": {},
   "outputs": [],
   "source": [
    "def get_raw_portugues(potuguese_source: dict= {}):\n",
    "    whole_text = list(potuguese_source.get_items_of_type(ebooklib.ITEM_DOCUMENT))[6]\n",
    "    whole_text = BeautifulSoup(whole_text.get_body_content(), 'html.parser')\n",
    "    paragraphs = [para.get_text() for para in whole_text.find_all('p')]\n",
    "    return paragraphs"
   ]
  },
  {
   "cell_type": "code",
   "execution_count": 7,
   "id": "c538aba1-8efd-40bc-ad6c-02089d175a84",
   "metadata": {},
   "outputs": [],
   "source": [
    "whole_text = get_raw_portugues(potuguese_source)"
   ]
  },
  {
   "cell_type": "code",
   "execution_count": null,
   "id": "6213dfe6-851d-4473-b11c-6125ef9d6969",
   "metadata": {},
   "outputs": [],
   "source": [
    "whole_text"
   ]
  },
  {
   "cell_type": "code",
   "execution_count": 17,
   "id": "e0263c32-6784-4953-84bd-69f273159528",
   "metadata": {},
   "outputs": [
    {
     "ename": "TypeError",
     "evalue": "'NoneType' object is not callable",
     "output_type": "error",
     "traceback": [
      "\u001b[0;31m---------------------------------------------------------------------------\u001b[0m",
      "\u001b[0;31mTypeError\u001b[0m                                 Traceback (most recent call last)",
      "Cell \u001b[0;32mIn[17], line 1\u001b[0m\n\u001b[0;32m----> 1\u001b[0m get_raw_portugues(potuguese_source)\n",
      "Cell \u001b[0;32mIn[16], line 4\u001b[0m, in \u001b[0;36mget_raw_portugues\u001b[0;34m(potuguese_source)\u001b[0m\n\u001b[1;32m      2\u001b[0m whole_text \u001b[38;5;241m=\u001b[39m \u001b[38;5;28mlist\u001b[39m(potuguese_source\u001b[38;5;241m.\u001b[39mget_items_of_type(ebooklib\u001b[38;5;241m.\u001b[39mITEM_DOCUMENT))[\u001b[38;5;241m6\u001b[39m]\n\u001b[1;32m      3\u001b[0m paragraphs \u001b[38;5;241m=\u001b[39m BeautifulSoup(whole_text\u001b[38;5;241m.\u001b[39mget_body_content(), \u001b[38;5;124m'\u001b[39m\u001b[38;5;124mhtml.parser\u001b[39m\u001b[38;5;124m'\u001b[39m)\n\u001b[0;32m----> 4\u001b[0m \u001b[38;5;28;01mreturn\u001b[39;00m chapter_to_str(paragraphs)\n",
      "Cell \u001b[0;32mIn[15], line 3\u001b[0m, in \u001b[0;36mchapter_to_str\u001b[0;34m(chapter)\u001b[0m\n\u001b[1;32m      2\u001b[0m \u001b[38;5;28;01mdef\u001b[39;00m \u001b[38;5;21mchapter_to_str\u001b[39m(chapter):\n\u001b[0;32m----> 3\u001b[0m     soup \u001b[38;5;241m=\u001b[39m BeautifulSoup(chapter\u001b[38;5;241m.\u001b[39mget_body_content(), \u001b[38;5;124m'\u001b[39m\u001b[38;5;124mhtml.parser\u001b[39m\u001b[38;5;124m'\u001b[39m)\n\u001b[1;32m      4\u001b[0m     text \u001b[38;5;241m=\u001b[39m [para\u001b[38;5;241m.\u001b[39mget_text() \u001b[38;5;28;01mfor\u001b[39;00m para \u001b[38;5;129;01min\u001b[39;00m soup\u001b[38;5;241m.\u001b[39mfind_all(\u001b[38;5;124m'\u001b[39m\u001b[38;5;124mp\u001b[39m\u001b[38;5;124m'\u001b[39m)]\n\u001b[1;32m      5\u001b[0m     \u001b[38;5;28;01mreturn\u001b[39;00m text\n",
      "\u001b[0;31mTypeError\u001b[0m: 'NoneType' object is not callable"
     ]
    }
   ],
   "source": [
    "get_raw_portugues(potuguese_source)"
   ]
  },
  {
   "cell_type": "code",
   "execution_count": 7,
   "id": "3f1929ac-b4ff-49ab-993c-49d9a8dd5b52",
   "metadata": {},
   "outputs": [
    {
     "ename": "NameError",
     "evalue": "name 'texts' is not defined",
     "output_type": "error",
     "traceback": [
      "\u001b[0;31m---------------------------------------------------------------------------\u001b[0m",
      "\u001b[0;31mNameError\u001b[0m                                 Traceback (most recent call last)",
      "Cell \u001b[0;32mIn[7], line 1\u001b[0m\n\u001b[0;32m----> 1\u001b[0m get_raw_spanish()\n",
      "Cell \u001b[0;32mIn[5], line 7\u001b[0m, in \u001b[0;36mget_raw_spanish\u001b[0;34m(spanish_text)\u001b[0m\n\u001b[1;32m      6\u001b[0m \u001b[38;5;28;01mdef\u001b[39;00m \u001b[38;5;21mget_raw_spanish\u001b[39m(spanish_text: \u001b[38;5;28mdict\u001b[39m\u001b[38;5;241m=\u001b[39m {}):\n\u001b[0;32m----> 7\u001b[0m     \u001b[38;5;28;01mreturn\u001b[39;00m texts[\u001b[38;5;241m0\u001b[39m]\n",
      "\u001b[0;31mNameError\u001b[0m: name 'texts' is not defined"
     ]
    }
   ],
   "source": [
    "get_raw_spanish()"
   ]
  },
  {
   "cell_type": "code",
   "execution_count": null,
   "id": "bd9d49b2-cdea-472e-b058-07628ae7bdc8",
   "metadata": {},
   "outputs": [],
   "source": []
  },
  {
   "cell_type": "code",
   "execution_count": null,
   "id": "ac38478c-c264-4fcf-a2dc-c8bf07aecf4b",
   "metadata": {},
   "outputs": [],
   "source": []
  },
  {
   "cell_type": "code",
   "execution_count": null,
   "id": "8df7e610-9045-4e63-ad8d-ffe4a24b0c38",
   "metadata": {},
   "outputs": [],
   "source": []
  },
  {
   "cell_type": "code",
   "execution_count": null,
   "id": "e92750e7-4a50-477d-b59c-d5578f807faa",
   "metadata": {},
   "outputs": [],
   "source": []
  },
  {
   "cell_type": "code",
   "execution_count": 51,
   "id": "15716e3b-f98b-4e7b-89ac-b93927c1d9b2",
   "metadata": {},
   "outputs": [
    {
     "data": {
      "text/plain": [
       "<ebooklib.epub.EpubHtml at 0x76a50a991490>"
      ]
     },
     "execution_count": 51,
     "metadata": {},
     "output_type": "execute_result"
    }
   ],
   "source": [
    "spanish_source_1[0]"
   ]
  },
  {
   "cell_type": "code",
   "execution_count": null,
   "id": "085178ec-c93b-4426-bbfa-fc264e906b32",
   "metadata": {},
   "outputs": [],
   "source": []
  },
  {
   "cell_type": "code",
   "execution_count": null,
   "id": "7725864a-ffd2-41b1-ad87-5297818ba7b3",
   "metadata": {},
   "outputs": [],
   "source": []
  },
  {
   "cell_type": "code",
   "execution_count": null,
   "id": "634be3fb-cdd8-4ff7-ac7d-48b344be69f8",
   "metadata": {},
   "outputs": [],
   "source": []
  },
  {
   "cell_type": "code",
   "execution_count": 12,
   "id": "7894d1bd-08fa-4094-b41f-6fcc4a02622a",
   "metadata": {},
   "outputs": [],
   "source": [
    "items = list(book.get_items_of_type(ebooklib.ITEM_DOCUMENT))"
   ]
  },
  {
   "cell_type": "code",
   "execution_count": 13,
   "id": "2deb9c37-10c3-4605-ba7d-7444a8132292",
   "metadata": {},
   "outputs": [
    {
     "data": {
      "text/plain": [
       "[<ebooklib.epub.EpubHtml at 0x76a52c17ca10>,\n",
       " <ebooklib.epub.EpubHtml at 0x76a52c17c8f0>,\n",
       " <ebooklib.epub.EpubHtml at 0x76a52c17caa0>,\n",
       " <ebooklib.epub.EpubHtml at 0x76a52c17cc50>,\n",
       " <ebooklib.epub.EpubHtml at 0x76a52c17cad0>,\n",
       " <ebooklib.epub.EpubHtml at 0x76a52c17ca70>,\n",
       " <ebooklib.epub.EpubHtml at 0x76a52c17cce0>,\n",
       " <ebooklib.epub.EpubHtml at 0x76a52c17cd10>]"
      ]
     },
     "execution_count": 13,
     "metadata": {},
     "output_type": "execute_result"
    }
   ],
   "source": [
    "items"
   ]
  },
  {
   "cell_type": "code",
   "execution_count": 20,
   "id": "a0f3e737-dfe5-43f9-8ca5-f1881c4560d7",
   "metadata": {},
   "outputs": [],
   "source": []
  },
  {
   "cell_type": "code",
   "execution_count": 26,
   "id": "915961d5-321a-4bc7-9d3c-a8a3bcea18f9",
   "metadata": {},
   "outputs": [
    {
     "data": {
      "text/plain": [
       "dict"
      ]
     },
     "execution_count": 26,
     "metadata": {},
     "output_type": "execute_result"
    }
   ],
   "source": [
    "type(texts)"
   ]
  },
  {
   "cell_type": "code",
   "execution_count": null,
   "id": "0fddd7c0-2ac0-4ddf-aa08-ba9f61bc1778",
   "metadata": {},
   "outputs": [],
   "source": []
  },
  {
   "cell_type": "code",
   "execution_count": 40,
   "id": "afe63ce3-b719-4d8a-99a8-9d00febe2c5f",
   "metadata": {},
   "outputs": [],
   "source": [
    "\n",
    "def get_raw_spanish(spanish_text: dict = {}):\n",
    "    pass"
   ]
  },
  {
   "cell_type": "code",
   "execution_count": 29,
   "id": "9a07c1bd-306a-467b-9b55-4b886063919d",
   "metadata": {},
   "outputs": [],
   "source": [
    "portugues = get_raw_portugues(texts)"
   ]
  },
  {
   "cell_type": "code",
   "execution_count": 32,
   "id": "535c92c7-0bc8-4d03-a448-2676de00a229",
   "metadata": {},
   "outputs": [],
   "source": [
    "a = portugues.split('\\n')"
   ]
  },
  {
   "cell_type": "code",
   "execution_count": 35,
   "id": "cef6c549-08b9-43da-bae4-ed933b83e495",
   "metadata": {},
   "outputs": [
    {
     "data": {
      "text/plain": [
       "188208"
      ]
     },
     "execution_count": 35,
     "metadata": {},
     "output_type": "execute_result"
    }
   ],
   "source": [
    "len(a[0])"
   ]
  },
  {
   "cell_type": "code",
   "execution_count": null,
   "id": "795ff71c-0c70-4154-9f89-8c79f199bdca",
   "metadata": {},
   "outputs": [],
   "source": [
    "a[0]"
   ]
  },
  {
   "cell_type": "code",
   "execution_count": null,
   "id": "dfa91a68-10d5-4f04-ad42-735a2e966c29",
   "metadata": {},
   "outputs": [],
   "source": []
  },
  {
   "cell_type": "code",
   "execution_count": null,
   "id": "15d9faee-f038-422a-ba2f-df11ae37486e",
   "metadata": {},
   "outputs": [],
   "source": []
  },
  {
   "cell_type": "code",
   "execution_count": null,
   "id": "bebd13ce-6f98-4623-a3f8-09fd6ff9bea5",
   "metadata": {},
   "outputs": [],
   "source": []
  },
  {
   "cell_type": "code",
   "execution_count": null,
   "id": "a307a797-495e-4446-84e7-73b6c69578ae",
   "metadata": {},
   "outputs": [],
   "source": []
  },
  {
   "cell_type": "code",
   "execution_count": null,
   "id": "29e386b2-cb9b-4e6c-b7d8-b85356e66d5e",
   "metadata": {},
   "outputs": [],
   "source": []
  },
  {
   "cell_type": "code",
   "execution_count": null,
   "id": "98dd5340-2d84-4319-928b-437709069e13",
   "metadata": {},
   "outputs": [],
   "source": [
    "texts['Text/007.html']"
   ]
  },
  {
   "cell_type": "code",
   "execution_count": null,
   "id": "44c940fb-951b-43d0-b93b-914222102290",
   "metadata": {},
   "outputs": [],
   "source": []
  }
 ],
 "metadata": {
  "kernelspec": {
   "display_name": "nlp",
   "language": "python",
   "name": "nlp"
  },
  "language_info": {
   "codemirror_mode": {
    "name": "ipython",
    "version": 3
   },
   "file_extension": ".py",
   "mimetype": "text/x-python",
   "name": "python",
   "nbconvert_exporter": "python",
   "pygments_lexer": "ipython3",
   "version": "3.12.9"
  }
 },
 "nbformat": 4,
 "nbformat_minor": 5
}
