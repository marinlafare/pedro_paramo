{
 "cells": [
  {
   "cell_type": "code",
   "execution_count": 1,
   "id": "67a7bdf4-e4b1-449a-8bed-2632e3eafcfa",
   "metadata": {},
   "outputs": [
    {
     "name": "stdout",
     "output_type": "stream",
     "text": [
      "Database 'dissection_table' already exists.\n",
      "Ensuring database tables exist...\n",
      "Database tables checked/created.\n",
      "Database initialization complete.\n",
      "DBInterface: SQLAlchemy engine and AsyncSessionLocal initialized.\n"
     ]
    },
    {
     "name": "stderr",
     "output_type": "stream",
     "text": [
      "/home/jon/anaconda3/envs/real_real_nlp/lib/python3.10/site-packages/requests/__init__.py:86: RequestsDependencyWarning: Unable to find acceptable character detection dependency (chardet or charset_normalizer).\n",
      "  warnings.warn(\n"
     ]
    }
   ],
   "source": [
    "import umap\n",
    "import pandas as pd\n",
    "from dissection_table.operations.sources import *\n",
    "from dissection_table.operations.frequencies import *\n",
    "from pgvector.sqlalchemy import Vector\n",
    "from dissection_table.database.engine import init_db\n",
    "from dissection_table.database.ask_db import *\n",
    "\n",
    "from dissection_table.database.sources_formatting import feed_database\n",
    "from dissection_table.operations.version_corpus import Corpus\n",
    "from constants import *\n",
    "from dissection_table.database.db_interface import DBInterface\n",
    "await init_db(CONN_STRING)\n",
    "import time\n",
    "DBInterface.initialize_engine_and_session(CONN_STRING)\n",
    "import matplotlib.pyplot as plt\n",
    "from langchain_ollama import OllamaEmbeddings"
   ]
  },
  {
   "cell_type": "code",
   "execution_count": 2,
   "id": "43f3aca0-0c4f-47e6-b463-59a9abff8fe5",
   "metadata": {},
   "outputs": [],
   "source": [
    "# await open_request(\"DROP TABLE version;\")\n",
    "# await open_request(\"DROP TABLE paragraph;\")"
   ]
  },
  {
   "cell_type": "code",
   "execution_count": 3,
   "id": "15470cc8-e837-4a13-ac4b-714fa0aede05",
   "metadata": {},
   "outputs": [
    {
     "data": {
      "text/plain": [
       "'popo'"
      ]
     },
     "execution_count": 3,
     "metadata": {},
     "output_type": "execute_result"
    }
   ],
   "source": [
    "'popo'"
   ]
  },
  {
   "cell_type": "code",
   "execution_count": null,
   "id": "93d8b641-d5d4-422b-876b-31c94eb2e5b9",
   "metadata": {},
   "outputs": [],
   "source": []
  },
  {
   "cell_type": "code",
   "execution_count": 4,
   "id": "b863a1fb-d320-4ce1-80e1-1011635d1618",
   "metadata": {},
   "outputs": [],
   "source": [
    "#await feed_database()"
   ]
  },
  {
   "cell_type": "code",
   "execution_count": null,
   "id": "447aaea6-9df1-494d-84bf-bca27af7ed3d",
   "metadata": {},
   "outputs": [],
   "source": []
  },
  {
   "cell_type": "code",
   "execution_count": 5,
   "id": "0450af70-ff68-47a1-9144-437937d19b77",
   "metadata": {},
   "outputs": [],
   "source": [
    "#await get_all_embeddings('spanish_1')"
   ]
  },
  {
   "cell_type": "code",
   "execution_count": 6,
   "id": "5e28146e-a71c-42d7-9486-732d6062cf4a",
   "metadata": {},
   "outputs": [],
   "source": [
    "original = await Corpus.create(\"spanish_1\")"
   ]
  },
  {
   "cell_type": "code",
   "execution_count": 7,
   "id": "fda1806c-0d83-4d80-af4c-9ca32e7db87c",
   "metadata": {},
   "outputs": [],
   "source": [
    "em = await original.all_embeddings()"
   ]
  },
  {
   "cell_type": "code",
   "execution_count": 8,
   "id": "47b2f1fd-a5ea-4980-85b3-259e70aa590a",
   "metadata": {},
   "outputs": [],
   "source": [
    "am = await original.all_paragraphs()"
   ]
  },
  {
   "cell_type": "code",
   "execution_count": 9,
   "id": "ff27b7a9-0969-4344-b8d8-3232df6824d8",
   "metadata": {},
   "outputs": [],
   "source": [
    "um = await original.all_umap()"
   ]
  },
  {
   "cell_type": "code",
   "execution_count": null,
   "id": "d568a623-74e6-4550-a776-bb4e49f5b173",
   "metadata": {},
   "outputs": [],
   "source": []
  },
  {
   "cell_type": "code",
   "execution_count": null,
   "id": "190008a0-cec6-4df0-87fb-8bbe957d24aa",
   "metadata": {},
   "outputs": [],
   "source": []
  },
  {
   "cell_type": "code",
   "execution_count": null,
   "id": "5d835688-5e6b-43fb-afcf-3a7f1a38f9f4",
   "metadata": {},
   "outputs": [],
   "source": []
  },
  {
   "cell_type": "code",
   "execution_count": null,
   "id": "2ce3ef3f-b833-4618-b5c8-db503a5e80d9",
   "metadata": {},
   "outputs": [],
   "source": []
  },
  {
   "cell_type": "code",
   "execution_count": null,
   "id": "62787954-e23f-4b26-a6b6-1f7da6531ed0",
   "metadata": {},
   "outputs": [],
   "source": []
  },
  {
   "cell_type": "code",
   "execution_count": null,
   "id": "ee851d44-3143-4d98-b6c0-326104ea7224",
   "metadata": {},
   "outputs": [],
   "source": []
  },
  {
   "cell_type": "code",
   "execution_count": null,
   "id": "de3318e1-5915-41e9-b44a-c15593b294b4",
   "metadata": {},
   "outputs": [],
   "source": []
  }
 ],
 "metadata": {
  "kernelspec": {
   "display_name": "real_real_nlp",
   "language": "python",
   "name": "real_real_nlp"
  },
  "language_info": {
   "codemirror_mode": {
    "name": "ipython",
    "version": 3
   },
   "file_extension": ".py",
   "mimetype": "text/x-python",
   "name": "python",
   "nbconvert_exporter": "python",
   "pygments_lexer": "ipython3",
   "version": "3.10.18"
  }
 },
 "nbformat": 4,
 "nbformat_minor": 5
}
