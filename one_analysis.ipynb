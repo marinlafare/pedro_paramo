{
 "cells": [
  {
   "cell_type": "code",
   "execution_count": 1,
   "id": "67a7bdf4-e4b1-449a-8bed-2632e3eafcfa",
   "metadata": {},
   "outputs": [
    {
     "name": "stdout",
     "output_type": "stream",
     "text": [
      "Database 'dissection_table' already exists.\n",
      "Ensuring database tables exist...\n",
      "Database tables checked/created.\n",
      "Database initialization complete.\n",
      "DBInterface: SQLAlchemy engine and AsyncSessionLocal initialized.\n"
     ]
    },
    {
     "name": "stderr",
     "output_type": "stream",
     "text": [
      "/home/jon/anaconda3/envs/real_real_nlp/lib/python3.10/site-packages/requests/__init__.py:86: RequestsDependencyWarning: Unable to find acceptable character detection dependency (chardet or charset_normalizer).\n",
      "  warnings.warn(\n"
     ]
    }
   ],
   "source": [
    "import umap\n",
    "import pandas as pd\n",
    "from dissection_table.operations.sources import *\n",
    "from dissection_table.database.sources_formatting import *\n",
    "import collections\n",
    "from dissection_table.operations.frequencies import *\n",
    "from pgvector.sqlalchemy import Vector\n",
    "from dissection_table.database.engine import init_db\n",
    "from dissection_table.database.ask_db import *\n",
    "\n",
    "from dissection_table.database.sources_formatting import feed_database\n",
    "from dissection_table.operations.version_corpus import Corpus\n",
    "from constants import *\n",
    "from dissection_table.database.db_interface import DBInterface\n",
    "await init_db(CONN_STRING)\n",
    "import time\n",
    "DBInterface.initialize_engine_and_session(CONN_STRING)\n",
    "import matplotlib.pyplot as plt\n",
    "from langchain_ollama import OllamaEmbeddings"
   ]
  },
  {
   "cell_type": "code",
   "execution_count": 1,
   "id": "6b2cde8a-226f-4a6d-bd35-80d519a6dc41",
   "metadata": {},
   "outputs": [
    {
     "ename": "ModuleNotFoundError",
     "evalue": "No module named 'tensorflow'",
     "output_type": "error",
     "traceback": [
      "\u001b[0;31m---------------------------------------------------------------------------\u001b[0m",
      "\u001b[0;31mModuleNotFoundError\u001b[0m                       Traceback (most recent call last)",
      "Cell \u001b[0;32mIn[1], line 1\u001b[0m\n\u001b[0;32m----> 1\u001b[0m \u001b[38;5;28;01mimport\u001b[39;00m\u001b[38;5;250m \u001b[39m\u001b[38;5;21;01mtensorflow\u001b[39;00m\u001b[38;5;250m \u001b[39m\u001b[38;5;28;01mas\u001b[39;00m\u001b[38;5;250m \u001b[39m\u001b[38;5;21;01mtf\u001b[39;00m\n",
      "\u001b[0;31mModuleNotFoundError\u001b[0m: No module named 'tensorflow'"
     ]
    }
   ],
   "source": [
    "import tensorflow as tf"
   ]
  },
  {
   "cell_type": "code",
   "execution_count": null,
   "id": "f3bee165-41ef-4759-8c23-b4f3ef95da7f",
   "metadata": {},
   "outputs": [],
   "source": [
    "s = time.time()\n",
    "await feed_database()\n",
    "e = time.time()\n",
    "print(e-s)"
   ]
  },
  {
   "cell_type": "code",
   "execution_count": 3,
   "id": "59e99e28-ac96-478c-8d10-d24b38220164",
   "metadata": {},
   "outputs": [
    {
     "data": {
      "text/plain": [
       "'popo'"
      ]
     },
     "execution_count": 3,
     "metadata": {},
     "output_type": "execute_result"
    }
   ],
   "source": [
    "'popo'"
   ]
  },
  {
   "cell_type": "code",
   "execution_count": 4,
   "id": "94ba79b5-3393-469a-a1c9-3eaec17774b0",
   "metadata": {},
   "outputs": [
    {
     "name": "stdout",
     "output_type": "stream",
     "text": [
      "3.700098665555318\n"
     ]
    }
   ],
   "source": [
    "print((e-s)/60)"
   ]
  },
  {
   "cell_type": "code",
   "execution_count": null,
   "id": "d7817e83-04c2-4990-b8b8-8298f7d6f53c",
   "metadata": {},
   "outputs": [],
   "source": []
  },
  {
   "cell_type": "code",
   "execution_count": null,
   "id": "668df41f-b7d4-4ec8-8cdd-e0c9b71af7d9",
   "metadata": {},
   "outputs": [],
   "source": []
  },
  {
   "cell_type": "code",
   "execution_count": null,
   "id": "a96968c4-c622-4305-aed2-a501a3f187aa",
   "metadata": {},
   "outputs": [],
   "source": []
  },
  {
   "cell_type": "code",
   "execution_count": null,
   "id": "b188831a-d196-475d-a1ba-c922db718cfc",
   "metadata": {},
   "outputs": [],
   "source": []
  },
  {
   "cell_type": "code",
   "execution_count": 2,
   "id": "496c2b0d-fc5b-4c5a-855d-48dba2ad33e5",
   "metadata": {},
   "outputs": [],
   "source": [
    "# from langchain_ollama import OllamaEmbeddings\n",
    "# ollama_emb = OllamaEmbeddings(model=\"granite-embedding:278m\")"
   ]
  },
  {
   "cell_type": "code",
   "execution_count": 3,
   "id": "3f9f3acf-f408-4516-96c3-8748861dcb16",
   "metadata": {},
   "outputs": [],
   "source": [
    "# reducer.fit_transform(embeddings_list)"
   ]
  },
  {
   "cell_type": "code",
   "execution_count": 2,
   "id": "43f3aca0-0c4f-47e6-b463-59a9abff8fe5",
   "metadata": {},
   "outputs": [],
   "source": [
    "# await open_request(\"DROP TABLE version;\")\n",
    "# await open_request(\"DROP TABLE paragraph;\")"
   ]
  },
  {
   "cell_type": "code",
   "execution_count": 5,
   "id": "68817f38-2b1e-4162-999c-e85e8907e48d",
   "metadata": {},
   "outputs": [],
   "source": [
    "#await feed_database()"
   ]
  },
  {
   "cell_type": "code",
   "execution_count": 6,
   "id": "0450af70-ff68-47a1-9144-437937d19b77",
   "metadata": {},
   "outputs": [],
   "source": [
    "#await get_all_embeddings('spanish_1')"
   ]
  },
  {
   "cell_type": "code",
   "execution_count": 5,
   "id": "5e28146e-a71c-42d7-9486-732d6062cf4a",
   "metadata": {},
   "outputs": [],
   "source": [
    "original_1 = await Corpus.create(\"spanish_1\")\n",
    "original_2 = await Corpus.create(\"spanish_2\")\n",
    "english_1 =  await Corpus.create(\"english_1\")\n",
    "english_2 =  await Corpus.create(\"english_2\")\n",
    "italian_1 =  await Corpus.create(\"italian_1\")\n",
    "portuguese_1 =  await Corpus.create(\"portuguese_1\")\n",
    "french_1 = await Corpus.create(\"french_1\")"
   ]
  },
  {
   "cell_type": "code",
   "execution_count": 6,
   "id": "5226888d-bde8-4a39-ba46-4466ee8b28bd",
   "metadata": {},
   "outputs": [],
   "source": [
    "or_1_em = await original_1.all_umap()\n",
    "or_2_em = await original_2.all_umap()\n",
    "en_1_em= await english_1.all_umap()\n",
    "en_2_em= await english_2.all_umap()\n",
    "it_1_em= await italian_1.all_umap()\n",
    "po_1_em= await portuguese_1.all_umap()\n",
    "fr_1_em = await french_1.all_umap()"
   ]
  },
  {
   "cell_type": "code",
   "execution_count": 13,
   "id": "49dde7db-77e7-4d36-96b1-eaade44007e9",
   "metadata": {},
   "outputs": [
    {
     "data": {
      "text/plain": [
       "array([11.74689  , 11.280223 , -1.1529104], dtype=float32)"
      ]
     },
     "execution_count": 13,
     "metadata": {},
     "output_type": "execute_result"
    }
   ],
   "source": [
    "or_1_em[100]"
   ]
  },
  {
   "cell_type": "code",
   "execution_count": 14,
   "id": "cdafc491-d6c3-4ebc-af24-b4938a5c9701",
   "metadata": {},
   "outputs": [
    {
     "data": {
      "text/plain": [
       "array([11.746327 , 11.276797 , -1.1517967], dtype=float32)"
      ]
     },
     "execution_count": 14,
     "metadata": {},
     "output_type": "execute_result"
    }
   ],
   "source": [
    "or_2_em[100]"
   ]
  },
  {
   "cell_type": "code",
   "execution_count": 27,
   "id": "c586be52-ca3a-444f-bfc2-9f6f11a67012",
   "metadata": {},
   "outputs": [
    {
     "data": {
      "text/plain": [
       "array([11.734244 , 11.291897 , -1.1492745], dtype=float32)"
      ]
     },
     "execution_count": 27,
     "metadata": {},
     "output_type": "execute_result"
    }
   ],
   "source": [
    "en_1_em[102]"
   ]
  },
  {
   "cell_type": "code",
   "execution_count": 16,
   "id": "ea49f486-34b5-4a6b-a5e4-a19ac4217d29",
   "metadata": {},
   "outputs": [
    {
     "data": {
      "text/plain": [
       "array([11.751256 , 11.310653 , -1.1537973], dtype=float32)"
      ]
     },
     "execution_count": 16,
     "metadata": {},
     "output_type": "execute_result"
    }
   ],
   "source": [
    "en_2_em[100]"
   ]
  },
  {
   "cell_type": "code",
   "execution_count": 17,
   "id": "f5b661a4-3499-4be5-ac19-7f9f707cb1eb",
   "metadata": {},
   "outputs": [
    {
     "data": {
      "text/plain": [
       "array([11.779374 , 11.275679 , -1.1486988], dtype=float32)"
      ]
     },
     "execution_count": 17,
     "metadata": {},
     "output_type": "execute_result"
    }
   ],
   "source": [
    "it_1_em[100]"
   ]
  },
  {
   "cell_type": "code",
   "execution_count": null,
   "id": "7fccf340-2a46-4086-b451-c2ac7e7b2e6e",
   "metadata": {},
   "outputs": [],
   "source": []
  },
  {
   "cell_type": "code",
   "execution_count": 28,
   "id": "1d7e714f-7664-4d94-bfde-9689dc03d421",
   "metadata": {},
   "outputs": [
    {
     "data": {
      "text/plain": [
       "'a week ago'"
      ]
     },
     "execution_count": 28,
     "metadata": {},
     "output_type": "execute_result"
    }
   ],
   "source": [
    "await english_1.n_paragraph(101)"
   ]
  },
  {
   "cell_type": "code",
   "execution_count": 29,
   "id": "64124a87-1d43-491d-b34f-59d113aabb41",
   "metadata": {},
   "outputs": [
    {
     "data": {
      "text/plain": [
       "'hace ya siete días'"
      ]
     },
     "execution_count": 29,
     "metadata": {},
     "output_type": "execute_result"
    }
   ],
   "source": [
    "await original_1.n_paragraph(99)"
   ]
  },
  {
   "cell_type": "code",
   "execution_count": null,
   "id": "f84a97ea-380e-481f-802f-c46f311ac8ec",
   "metadata": {},
   "outputs": [],
   "source": []
  },
  {
   "cell_type": "code",
   "execution_count": null,
   "id": "fd0f1ec9-b5b6-404e-8ce7-dd4a749af4ed",
   "metadata": {},
   "outputs": [],
   "source": []
  },
  {
   "cell_type": "code",
   "execution_count": null,
   "id": "bdb7f31c-7146-4828-b6c9-950285c91b40",
   "metadata": {},
   "outputs": [],
   "source": []
  },
  {
   "cell_type": "code",
   "execution_count": 30,
   "id": "0d7ece82-9d71-4be8-bcb7-3aebd3fc877d",
   "metadata": {},
   "outputs": [
    {
     "data": {
      "text/plain": [
       "[{'count': 10081}]"
      ]
     },
     "execution_count": 30,
     "metadata": {},
     "output_type": "execute_result"
    }
   ],
   "source": [
    "await open_request(\"select count(*) from paragraph\", fetch_as_dict=True)"
   ]
  },
  {
   "cell_type": "code",
   "execution_count": null,
   "id": "017e31fe-1de7-464f-b7eb-679c34ac4e09",
   "metadata": {},
   "outputs": [],
   "source": []
  },
  {
   "cell_type": "code",
   "execution_count": null,
   "id": "957934b7-c3d7-4687-ad88-5aea3b757634",
   "metadata": {},
   "outputs": [],
   "source": []
  },
  {
   "cell_type": "code",
   "execution_count": 103,
   "id": "6a7f4140-406d-4f8a-946a-77ce55518a2b",
   "metadata": {},
   "outputs": [
    {
     "data": {
      "text/plain": [
       "10081"
      ]
     },
     "execution_count": 103,
     "metadata": {},
     "output_type": "execute_result"
    }
   ],
   "source": [
    "len(embeddings)"
   ]
  },
  {
   "cell_type": "code",
   "execution_count": 170,
   "id": "ff68415c-9649-47b3-bb16-1119623473a0",
   "metadata": {},
   "outputs": [
    {
     "data": {
      "text/plain": [
       "'or_1_em_0'"
      ]
     },
     "execution_count": 170,
     "metadata": {},
     "output_type": "execute_result"
    }
   ],
   "source": [
    "embeddings[0]"
   ]
  },
  {
   "cell_type": "code",
   "execution_count": 12,
   "id": "78cc8e82-2f81-43b1-b8df-bd0913f02469",
   "metadata": {},
   "outputs": [
    {
     "data": {
      "text/plain": [
       "\"This version: spanish_1 doesn't exist or has no UMAP embeddings.\""
      ]
     },
     "execution_count": 12,
     "metadata": {},
     "output_type": "execute_result"
    }
   ],
   "source": [
    "or_1_em"
   ]
  },
  {
   "cell_type": "code",
   "execution_count": null,
   "id": "ce6ed573-9eea-47b8-8df7-d869daf13b90",
   "metadata": {},
   "outputs": [],
   "source": []
  },
  {
   "cell_type": "code",
   "execution_count": 105,
   "id": "d8ecbad1-6289-4a6c-a555-ea7bd6ec20ed",
   "metadata": {},
   "outputs": [],
   "source": [
    "all_embs = np.concat(  (or_1_em,\n",
    "                        or_2_em,\n",
    "                        en_1_em,\n",
    "                        en_2_em,\n",
    "                        it_1_em,\n",
    "                        po_1_em,\n",
    "                        fr_1_em), axis=0)"
   ]
  },
  {
   "cell_type": "code",
   "execution_count": 106,
   "id": "0779e0ea-a599-428d-9f73-be498780ea5a",
   "metadata": {},
   "outputs": [
    {
     "data": {
      "text/plain": [
       "10081"
      ]
     },
     "execution_count": 106,
     "metadata": {},
     "output_type": "execute_result"
    }
   ],
   "source": [
    "len(all_embs)"
   ]
  },
  {
   "cell_type": "code",
   "execution_count": 138,
   "id": "169f29fa-8731-4648-aafa-ed45396e4996",
   "metadata": {},
   "outputs": [
    {
     "name": "stderr",
     "output_type": "stream",
     "text": [
      "/home/jon/anaconda3/envs/real_real_nlp/lib/python3.10/site-packages/umap/umap_.py:1952: UserWarning: n_jobs value 1 overridden to 1 by setting random_state. Use no seed for parallelism.\n",
      "  warn(\n"
     ]
    },
    {
     "name": "stdout",
     "output_type": "stream",
     "text": [
      "5.481372356414795\n"
     ]
    }
   ],
   "source": [
    "s = time.time()\n",
    "both_umap = perform_umap_reduction(all_embs)\n",
    "e = time.time()\n",
    "print(e-s)"
   ]
  },
  {
   "cell_type": "code",
   "execution_count": null,
   "id": "15a18bfa-bda0-49cf-845b-3f24ee77e386",
   "metadata": {},
   "outputs": [],
   "source": []
  },
  {
   "cell_type": "code",
   "execution_count": 139,
   "id": "fe7f4800-91c9-4030-a84d-9a6f776f54ae",
   "metadata": {},
   "outputs": [],
   "source": [
    "dict_umap_embedding = dict(zip(embeddings,both_umap))"
   ]
  },
  {
   "cell_type": "code",
   "execution_count": 140,
   "id": "1503df8a-5f22-4f24-b299-b6302a738a2d",
   "metadata": {},
   "outputs": [
    {
     "data": {
      "text/plain": [
       "7002"
      ]
     },
     "execution_count": 140,
     "metadata": {},
     "output_type": "execute_result"
    }
   ],
   "source": [
    "embeddings.index('it_1_em_1200')"
   ]
  },
  {
   "cell_type": "code",
   "execution_count": 144,
   "id": "d9a1df8a-4319-4a0e-99c5-60445b0d4d6e",
   "metadata": {},
   "outputs": [
    {
     "data": {
      "text/plain": [
       "[5.164046764373779, 4.301203727722168, 5.82706880569458]"
      ]
     },
     "execution_count": 144,
     "metadata": {},
     "output_type": "execute_result"
    }
   ],
   "source": [
    "both_umap[7002]"
   ]
  },
  {
   "cell_type": "code",
   "execution_count": 142,
   "id": "2c8ca83c-a4c8-4b56-bd2d-8942938833cf",
   "metadata": {},
   "outputs": [
    {
     "data": {
      "text/plain": [
       "[5.164046764373779, 4.301203727722168, 5.82706880569458]"
      ]
     },
     "execution_count": 142,
     "metadata": {},
     "output_type": "execute_result"
    }
   ],
   "source": [
    "dict_umap_embedding['it_1_em_1200'][:3]"
   ]
  },
  {
   "cell_type": "code",
   "execution_count": 146,
   "id": "34d8518e-f66d-42c3-b0d1-bd301fe2926e",
   "metadata": {},
   "outputs": [],
   "source": [
    "grouped_data_with_indices = collections.defaultdict(list)\n",
    "\n",
    "for key, data_vector in dict_umap_embedding.items():\n",
    "    # Split the key to get the group name and the index\n",
    "    parts = key.rsplit('_', 1) # Split only on the last underscore\n",
    "    if len(parts) == 2:\n",
    "        group_name = parts[0]\n",
    "        try:\n",
    "            index = int(parts[1])\n",
    "            grouped_data_with_indices[group_name].append((index, data_vector))\n",
    "        except ValueError:\n",
    "            print(f\"Warning: Could not parse index from key '{key}'. Skipping.\")\n",
    "    else:\n",
    "        print(f\"Warning: Key format unexpected for '{key}'. Skipping.\")\n",
    "\n",
    "# Dictionary to store the final NumPy matrices for each group\n",
    "final_matrices = {}\n",
    "\n",
    "# Process each group\n",
    "for group_name, items in grouped_data_with_indices.items():\n",
    "    # Sort the items by index in descending order\n",
    "    # item[0] is the index, item[1] is the data_vector\n",
    "    sorted_items = sorted(items, key=lambda x: x[0], reverse=True)\n",
    "\n",
    "    # Extract only the data vectors in their sorted order\n",
    "    sorted_data_vectors = [item[1] for item in sorted_items]\n",
    "\n",
    "    # Convert the list of data vectors into a NumPy matrix\n",
    "    if sorted_data_vectors: # Ensure the list is not empty before converting\n",
    "        final_matrices[group_name] = np.array(sorted_data_vectors)\n",
    "    else:\n",
    "        print(f\"Warning: No data vectors found for group '{group_name}'.\")"
   ]
  },
  {
   "cell_type": "code",
   "execution_count": 147,
   "id": "2070f902-5a78-4557-aef2-6e99399f068b",
   "metadata": {},
   "outputs": [
    {
     "data": {
      "text/plain": [
       "dict_keys(['or_1_em', 'or_2_em', 'en_1_em', 'en_2_em', 'it_1_em', 'po_1_em', 'fr_1_em'])"
      ]
     },
     "execution_count": 147,
     "metadata": {},
     "output_type": "execute_result"
    }
   ],
   "source": [
    "final_matrices.keys()"
   ]
  },
  {
   "cell_type": "code",
   "execution_count": 148,
   "id": "892473f9-e7b1-4bf8-b28f-3e7468d01739",
   "metadata": {},
   "outputs": [
    {
     "data": {
      "text/plain": [
       "array([ 9.54003048, -0.14437792,  9.05637169])"
      ]
     },
     "execution_count": 148,
     "metadata": {},
     "output_type": "execute_result"
    }
   ],
   "source": [
    "final_matrices['or_1_em'][0]"
   ]
  },
  {
   "cell_type": "code",
   "execution_count": null,
   "id": "72cfdee2-70ed-471d-97b4-4a68b5b4808e",
   "metadata": {},
   "outputs": [],
   "source": []
  },
  {
   "cell_type": "code",
   "execution_count": 88,
   "id": "507c900c-0b42-4ae6-aabd-0570b834a95b",
   "metadata": {},
   "outputs": [],
   "source": []
  },
  {
   "cell_type": "code",
   "execution_count": 107,
   "id": "0a3133e2-84be-41f3-a150-9a42e7e9c973",
   "metadata": {},
   "outputs": [
    {
     "name": "stderr",
     "output_type": "stream",
     "text": [
      "/home/jon/anaconda3/envs/real_real_nlp/lib/python3.10/site-packages/umap/umap_.py:1952: UserWarning: n_jobs value 1 overridden to 1 by setting random_state. Use no seed for parallelism.\n",
      "  warn(\n"
     ]
    },
    {
     "name": "stdout",
     "output_type": "stream",
     "text": [
      "5.384754180908203\n"
     ]
    }
   ],
   "source": []
  },
  {
   "cell_type": "code",
   "execution_count": 108,
   "id": "f60e6126-7b45-4b61-ac05-cb11fe91e161",
   "metadata": {},
   "outputs": [
    {
     "data": {
      "text/plain": [
       "[7.576539039611816, 1.3670144081115723, 5.165207862854004]"
      ]
     },
     "execution_count": 108,
     "metadata": {},
     "output_type": "execute_result"
    }
   ],
   "source": [
    "both_umap[0]"
   ]
  },
  {
   "cell_type": "code",
   "execution_count": 109,
   "id": "98d3b0fc-aa88-4399-b1c9-ac90c2849f16",
   "metadata": {
    "scrolled": true
   },
   "outputs": [
    {
     "data": {
      "text/plain": [
       "'or_1_em_0'"
      ]
     },
     "execution_count": 109,
     "metadata": {},
     "output_type": "execute_result"
    }
   ],
   "source": [
    "embeddings[0]"
   ]
  },
  {
   "cell_type": "code",
   "execution_count": 116,
   "id": "a5e4e2f2-bbc8-4594-98bd-a1069f99e33e",
   "metadata": {},
   "outputs": [
    {
     "data": {
      "text/plain": [
       "8693"
      ]
     },
     "execution_count": 116,
     "metadata": {},
     "output_type": "execute_result"
    }
   ],
   "source": [
    "embeddings.index('fr_1_em_0')"
   ]
  },
  {
   "cell_type": "code",
   "execution_count": 112,
   "id": "af469fb4-95f1-4983-9a3d-b9ba4b9c4e5d",
   "metadata": {},
   "outputs": [
    {
     "data": {
      "text/plain": [
       "[7.580067157745361, 1.3611048460006714, 5.170863151550293]"
      ]
     },
     "execution_count": 112,
     "metadata": {},
     "output_type": "execute_result"
    }
   ],
   "source": [
    "both_umap[1444]"
   ]
  },
  {
   "cell_type": "code",
   "execution_count": 114,
   "id": "816284cf-25b7-4e47-be7f-5236971dc3b7",
   "metadata": {},
   "outputs": [
    {
     "data": {
      "text/plain": [
       "[7.473933219909668, 1.319040060043335, 5.255375862121582]"
      ]
     },
     "execution_count": 114,
     "metadata": {},
     "output_type": "execute_result"
    }
   ],
   "source": [
    "both_umap[4355]"
   ]
  },
  {
   "cell_type": "code",
   "execution_count": 117,
   "id": "e13221b8-8785-4c1c-a679-dd9c37a44eb0",
   "metadata": {},
   "outputs": [
    {
     "data": {
      "text/plain": [
       "[7.5173163414001465, 1.3592970371246338, 5.213531494140625]"
      ]
     },
     "execution_count": 117,
     "metadata": {},
     "output_type": "execute_result"
    }
   ],
   "source": [
    "both_umap[8693]"
   ]
  },
  {
   "cell_type": "code",
   "execution_count": null,
   "id": "31915a03-8452-4d51-b389-800b6359c9b1",
   "metadata": {},
   "outputs": [],
   "source": []
  },
  {
   "cell_type": "code",
   "execution_count": null,
   "id": "571f9f11-50f0-4bac-a478-54c6ede0bf74",
   "metadata": {},
   "outputs": [],
   "source": []
  },
  {
   "cell_type": "code",
   "execution_count": null,
   "id": "5e09d323-214f-448d-b3da-956c88da5bc3",
   "metadata": {},
   "outputs": [],
   "source": []
  },
  {
   "cell_type": "code",
   "execution_count": null,
   "id": "a2883aa7-2f09-4b44-afb3-beb169d78242",
   "metadata": {},
   "outputs": [],
   "source": []
  },
  {
   "cell_type": "code",
   "execution_count": null,
   "id": "74ae2e31-8635-4dc6-b644-dc035eaa8085",
   "metadata": {},
   "outputs": [],
   "source": []
  },
  {
   "cell_type": "code",
   "execution_count": null,
   "id": "f160a4b0-2541-47fb-b3fe-9faa64f0f2ce",
   "metadata": {},
   "outputs": [],
   "source": []
  },
  {
   "cell_type": "code",
   "execution_count": null,
   "id": "cc1c6222-896d-4fb8-ad73-76c02733da94",
   "metadata": {},
   "outputs": [],
   "source": []
  },
  {
   "cell_type": "code",
   "execution_count": 4,
   "id": "9db4390d-b29f-4449-8d36-db6c2594d536",
   "metadata": {},
   "outputs": [
    {
     "data": {
      "text/plain": [
       "[-0.028065505, 0.06424787, -0.0040225377, 0.028359836]"
      ]
     },
     "execution_count": 4,
     "metadata": {},
     "output_type": "execute_result"
    }
   ],
   "source": [
    "q =await original.n_paragraph_embedding(15)\n",
    "q[:4]"
   ]
  },
  {
   "cell_type": "code",
   "execution_count": 5,
   "id": "d57f413c-378c-40b7-9f1d-857882e65b77",
   "metadata": {},
   "outputs": [
    {
     "data": {
      "text/plain": [
       "[-0.028065505, 0.06424787, -0.0040225377, 0.028359836]"
      ]
     },
     "execution_count": 5,
     "metadata": {},
     "output_type": "execute_result"
    }
   ],
   "source": [
    "w = await original_1.n_paragraph_embedding(15)\n",
    "w[:4]"
   ]
  },
  {
   "cell_type": "code",
   "execution_count": null,
   "id": "13b3bfd6-4732-460c-9ad6-92f2fea68f76",
   "metadata": {},
   "outputs": [],
   "source": [
    "w = await original_1.n_paragraph_embedding(15)\n",
    "w[:4]"
   ]
  },
  {
   "cell_type": "code",
   "execution_count": 13,
   "id": "1d5490b5-e5d5-43a2-b99b-f6428b04dab8",
   "metadata": {},
   "outputs": [
    {
     "data": {
      "text/plain": [
       "[5.3948426, 4.192959, 5.8427324]"
      ]
     },
     "execution_count": 13,
     "metadata": {},
     "output_type": "execute_result"
    }
   ],
   "source": [
    "await original_1.n_paragraph_umap(15)"
   ]
  },
  {
   "cell_type": "code",
   "execution_count": 22,
   "id": "2f831b2d-7962-43a0-8413-fc832d8bfa79",
   "metadata": {},
   "outputs": [
    {
     "data": {
      "text/plain": [
       "1444"
      ]
     },
     "execution_count": 22,
     "metadata": {},
     "output_type": "execute_result"
    }
   ],
   "source": [
    "len(or_1_em)"
   ]
  },
  {
   "cell_type": "code",
   "execution_count": 25,
   "id": "97f6eb94-3258-4493-91c7-bda5bdd09ebd",
   "metadata": {},
   "outputs": [
    {
     "data": {
      "text/plain": [
       "array([0.01727753, 0.01655463], dtype=float32)"
      ]
     },
     "execution_count": 25,
     "metadata": {},
     "output_type": "execute_result"
    }
   ],
   "source": [
    "or_1_em[1443][:2]"
   ]
  },
  {
   "cell_type": "code",
   "execution_count": 26,
   "id": "f855c1a3-40cf-4284-9b66-d49fbb3447ba",
   "metadata": {},
   "outputs": [
    {
     "data": {
      "text/plain": [
       "1447"
      ]
     },
     "execution_count": 26,
     "metadata": {},
     "output_type": "execute_result"
    }
   ],
   "source": [
    "len(or_em)"
   ]
  },
  {
   "cell_type": "code",
   "execution_count": 28,
   "id": "839e2595-527d-452f-aa20-5e518d8a4e2a",
   "metadata": {},
   "outputs": [
    {
     "data": {
      "text/plain": [
       "array([ 0.01727753,  0.01655463, -0.04119665], dtype=float32)"
      ]
     },
     "execution_count": 28,
     "metadata": {},
     "output_type": "execute_result"
    }
   ],
   "source": [
    "or_em[1446][:3]"
   ]
  },
  {
   "cell_type": "code",
   "execution_count": 32,
   "id": "badf7ea4-3fbe-42e2-ad1c-4b286a4e756d",
   "metadata": {},
   "outputs": [],
   "source": [
    "both = np.concat((or_em, or_1_em), axis=0)"
   ]
  },
  {
   "cell_type": "code",
   "execution_count": 33,
   "id": "686ddf8c-8ab3-4a7c-ab8e-bfa1b73d5ea7",
   "metadata": {},
   "outputs": [
    {
     "data": {
      "text/plain": [
       "2891"
      ]
     },
     "execution_count": 33,
     "metadata": {},
     "output_type": "execute_result"
    }
   ],
   "source": [
    "len(both)"
   ]
  },
  {
   "cell_type": "code",
   "execution_count": 37,
   "id": "b51eaf33-e13e-457a-996b-756aa5c914aa",
   "metadata": {},
   "outputs": [
    {
     "data": {
      "text/plain": [
       "array([ 0.01727753,  0.01655463, -0.04119665], dtype=float32)"
      ]
     },
     "execution_count": 37,
     "metadata": {},
     "output_type": "execute_result"
    }
   ],
   "source": [
    "both[1446+1444][:3]"
   ]
  },
  {
   "cell_type": "code",
   "execution_count": 38,
   "id": "d036e400-4fc5-4f97-93a1-ba8d6f682377",
   "metadata": {},
   "outputs": [
    {
     "name": "stderr",
     "output_type": "stream",
     "text": [
      "/home/jon/anaconda3/envs/real_real_nlp/lib/python3.10/site-packages/umap/umap_.py:1952: UserWarning: n_jobs value 1 overridden to 1 by setting random_state. Use no seed for parallelism.\n",
      "  warn(\n"
     ]
    },
    {
     "name": "stdout",
     "output_type": "stream",
     "text": [
      "7.5037548542022705\n"
     ]
    }
   ],
   "source": [
    "s = time.time()\n",
    "both_umap = perform_umap_reduction(both)\n",
    "e = time.time()\n",
    "print(e-s)"
   ]
  },
  {
   "cell_type": "code",
   "execution_count": 39,
   "id": "dd682bb9-1825-4a07-9a3b-11ff9c96d59f",
   "metadata": {},
   "outputs": [
    {
     "data": {
      "text/plain": [
       "[-0.5118455290794373, 2.1395840644836426, 2.81969952583313]"
      ]
     },
     "execution_count": 39,
     "metadata": {},
     "output_type": "execute_result"
    }
   ],
   "source": [
    "both_umap[0]"
   ]
  },
  {
   "cell_type": "code",
   "execution_count": 43,
   "id": "0130747b-8ce4-4d37-9b6b-79130ad3b5ce",
   "metadata": {},
   "outputs": [
    {
     "data": {
      "text/plain": [
       "[-0.5167580246925354, 2.1607468128204346, 2.8225812911987305]"
      ]
     },
     "execution_count": 43,
     "metadata": {},
     "output_type": "execute_result"
    }
   ],
   "source": [
    "both_umap[1447]"
   ]
  },
  {
   "cell_type": "code",
   "execution_count": null,
   "id": "645da3e5-751e-4e86-8ec1-981ee0fef7f9",
   "metadata": {},
   "outputs": [],
   "source": []
  },
  {
   "cell_type": "code",
   "execution_count": 44,
   "id": "e4b10d4a-1208-4a20-b2c4-0cebf4a82bcb",
   "metadata": {},
   "outputs": [
    {
     "data": {
      "text/plain": [
       "[0.961727499961853, -0.05912557989358902, 2.315767526626587]"
      ]
     },
     "execution_count": 44,
     "metadata": {},
     "output_type": "execute_result"
    }
   ],
   "source": [
    "both_umap[1446]"
   ]
  },
  {
   "cell_type": "code",
   "execution_count": 45,
   "id": "9af42107-d9d1-4671-b3d2-e0811acf2734",
   "metadata": {},
   "outputs": [
    {
     "data": {
      "text/plain": [
       "[0.9557501673698425, -0.06006516143679619, 2.3125734329223633]"
      ]
     },
     "execution_count": 45,
     "metadata": {},
     "output_type": "execute_result"
    }
   ],
   "source": [
    "both_umap[-1]"
   ]
  },
  {
   "cell_type": "code",
   "execution_count": 60,
   "id": "cf07d629-3546-4c1a-85f9-0fe8851c50c1",
   "metadata": {},
   "outputs": [],
   "source": [
    "one_emb = np.array(both_umap[:1447])"
   ]
  },
  {
   "cell_type": "code",
   "execution_count": 61,
   "id": "bc399b53-4bc3-4137-a8c5-f8552183067f",
   "metadata": {},
   "outputs": [],
   "source": [
    "two_emb = np.array(both_umap[1447:])"
   ]
  },
  {
   "cell_type": "code",
   "execution_count": 62,
   "id": "41760cfb-37f5-4429-9a0d-1b3aec0a8e25",
   "metadata": {},
   "outputs": [
    {
     "data": {
      "text/plain": [
       "array([-0.51675802,  2.16074681,  2.82258129])"
      ]
     },
     "execution_count": 62,
     "metadata": {},
     "output_type": "execute_result"
    }
   ],
   "source": [
    "two_emb[0]"
   ]
  },
  {
   "cell_type": "code",
   "execution_count": 63,
   "id": "195fe945-6337-4217-81bc-ab130cf5fe4d",
   "metadata": {},
   "outputs": [
    {
     "data": {
      "text/plain": [
       "array([-0.51184553,  2.13958406,  2.81969953])"
      ]
     },
     "execution_count": 63,
     "metadata": {},
     "output_type": "execute_result"
    }
   ],
   "source": [
    "one_emb[0]"
   ]
  },
  {
   "cell_type": "code",
   "execution_count": null,
   "id": "97ddd07d-7265-4a1e-a3f9-c37101717f37",
   "metadata": {},
   "outputs": [],
   "source": []
  },
  {
   "cell_type": "code",
   "execution_count": null,
   "id": "d4931634-ef30-4095-ba0b-032a5e110cd4",
   "metadata": {},
   "outputs": [],
   "source": []
  },
  {
   "cell_type": "code",
   "execution_count": null,
   "id": "53371c48-7ad6-49cd-9f47-9731b0281266",
   "metadata": {},
   "outputs": [],
   "source": []
  },
  {
   "cell_type": "code",
   "execution_count": 14,
   "id": "fa073bc0-4ba2-46c0-bd65-7d6c384355bf",
   "metadata": {},
   "outputs": [
    {
     "name": "stderr",
     "output_type": "stream",
     "text": [
      "/home/jon/anaconda3/envs/real_real_nlp/lib/python3.10/site-packages/umap/umap_.py:1952: UserWarning: n_jobs value 1 overridden to 1 by setting random_state. Use no seed for parallelism.\n",
      "  warn(\n",
      "/home/jon/anaconda3/envs/real_real_nlp/lib/python3.10/site-packages/umap/umap_.py:1952: UserWarning: n_jobs value 1 overridden to 1 by setting random_state. Use no seed for parallelism.\n",
      "  warn(\n"
     ]
    }
   ],
   "source": [
    "\n",
    "#or_em[15][:4]\n",
    "from dissection_table.operations.umap_reduction import perform_umap_reduction\n",
    "or_em_umap = perform_umap_reduction(or_em)\n",
    "or_em_1_umap = perform_umap_reduction(or_1_em)"
   ]
  },
  {
   "cell_type": "code",
   "execution_count": 20,
   "id": "c14d173e-76fc-4ac7-a988-388d732e1878",
   "metadata": {},
   "outputs": [
    {
     "data": {
      "text/plain": [
       "array([-0.0280655 ,  0.06424787, -0.00402254,  0.02835984], dtype=float32)"
      ]
     },
     "execution_count": 20,
     "metadata": {},
     "output_type": "execute_result"
    }
   ],
   "source": [
    "or_em[15][:4]"
   ]
  },
  {
   "cell_type": "code",
   "execution_count": 21,
   "id": "571ced93-243b-4ef8-8a1f-08f40d16ff4f",
   "metadata": {},
   "outputs": [
    {
     "data": {
      "text/plain": [
       "array([-0.0280655 ,  0.06424787, -0.00402254,  0.02835984], dtype=float32)"
      ]
     },
     "execution_count": 21,
     "metadata": {},
     "output_type": "execute_result"
    }
   ],
   "source": [
    "or_1_em[15][:4]"
   ]
  },
  {
   "cell_type": "code",
   "execution_count": null,
   "id": "0549af65-4522-4901-ae95-ea0d4babcfc5",
   "metadata": {},
   "outputs": [],
   "source": []
  },
  {
   "cell_type": "code",
   "execution_count": null,
   "id": "91cb99f5-e365-4a6a-9dce-4c88fdcb270f",
   "metadata": {},
   "outputs": [],
   "source": []
  },
  {
   "cell_type": "code",
   "execution_count": 19,
   "id": "9919ab10-a413-424d-8b13-f528a5b13d19",
   "metadata": {},
   "outputs": [
    {
     "data": {
      "text/plain": [
       "[1.708701, 5.92617, 9.068351]"
      ]
     },
     "execution_count": 19,
     "metadata": {},
     "output_type": "execute_result"
    }
   ],
   "source": [
    "await original.n_paragraph_umap(15)"
   ]
  },
  {
   "cell_type": "code",
   "execution_count": 15,
   "id": "12576354-d9d2-436a-8ec3-b36e616906fc",
   "metadata": {},
   "outputs": [
    {
     "data": {
      "text/plain": [
       "[1.7087010145187378, 5.9261698722839355, 9.068350791931152]"
      ]
     },
     "execution_count": 15,
     "metadata": {},
     "output_type": "execute_result"
    }
   ],
   "source": [
    "or_em_umap[15]"
   ]
  },
  {
   "cell_type": "code",
   "execution_count": 16,
   "id": "021f6c10-a331-4941-88f6-df1ae1e90b70",
   "metadata": {},
   "outputs": [
    {
     "data": {
      "text/plain": [
       "[5.394842624664307, 4.192958831787109, 5.8427324295043945]"
      ]
     },
     "execution_count": 16,
     "metadata": {},
     "output_type": "execute_result"
    }
   ],
   "source": [
    "or_em_1_umap[15]"
   ]
  },
  {
   "cell_type": "code",
   "execution_count": 18,
   "id": "e95d5d27-d103-40f5-87b7-f05c06edafc3",
   "metadata": {},
   "outputs": [
    {
     "data": {
      "text/plain": [
       "[5.3948426, 4.192959, 5.8427324]"
      ]
     },
     "execution_count": 18,
     "metadata": {},
     "output_type": "execute_result"
    }
   ],
   "source": [
    "await original_1.n_paragraph_umap(15)"
   ]
  },
  {
   "cell_type": "code",
   "execution_count": null,
   "id": "49b41fe3-871c-4379-92cb-94fe7794ac36",
   "metadata": {},
   "outputs": [],
   "source": []
  },
  {
   "cell_type": "code",
   "execution_count": null,
   "id": "7e192c54-66b2-4853-9e35-82979559b207",
   "metadata": {},
   "outputs": [],
   "source": []
  },
  {
   "cell_type": "code",
   "execution_count": null,
   "id": "7381a769-146f-4abd-8cd8-4a1845b5ce5e",
   "metadata": {},
   "outputs": [],
   "source": []
  },
  {
   "cell_type": "code",
   "execution_count": 10,
   "id": "53c75723-22c2-4d85-8607-664e7421aafc",
   "metadata": {},
   "outputs": [
    {
     "data": {
      "text/plain": [
       "[5.394842624664307, 4.192958831787109, 5.8427324295043945]"
      ]
     },
     "execution_count": 10,
     "metadata": {},
     "output_type": "execute_result"
    }
   ],
   "source": [
    "q[15]"
   ]
  },
  {
   "cell_type": "code",
   "execution_count": null,
   "id": "2c16d7fe-1c74-4429-b197-28c8ed59732a",
   "metadata": {},
   "outputs": [],
   "source": []
  },
  {
   "cell_type": "code",
   "execution_count": null,
   "id": "9e7066f8-324a-4b53-be32-7256ff9d9b81",
   "metadata": {},
   "outputs": [],
   "source": []
  },
  {
   "cell_type": "code",
   "execution_count": null,
   "id": "445f0955-d124-4b47-ae9e-5d8e0a02cc12",
   "metadata": {},
   "outputs": [],
   "source": []
  },
  {
   "cell_type": "code",
   "execution_count": null,
   "id": "30d45ac2-9ad9-4917-9806-19ffedc7ab57",
   "metadata": {},
   "outputs": [],
   "source": []
  },
  {
   "cell_type": "code",
   "execution_count": null,
   "id": "5614d6ae-c1ca-4348-9593-255fb9c003a8",
   "metadata": {},
   "outputs": [],
   "source": []
  },
  {
   "cell_type": "code",
   "execution_count": 14,
   "id": "c2074e6d-8689-4354-9abe-1a3c667b3d1f",
   "metadata": {},
   "outputs": [
    {
     "data": {
      "text/plain": [
       "33369"
      ]
     },
     "execution_count": 14,
     "metadata": {},
     "output_type": "execute_result"
    }
   ],
   "source": [
    "original.n_words"
   ]
  },
  {
   "cell_type": "code",
   "execution_count": 17,
   "id": "8718f5bf-5f6f-4af7-9c30-dc57f89fea02",
   "metadata": {},
   "outputs": [],
   "source": [
    "p = await original.all_paragraphs()"
   ]
  },
  {
   "cell_type": "code",
   "execution_count": 18,
   "id": "1ec2b0a7-b315-44fc-8834-a1868cd66a0e",
   "metadata": {},
   "outputs": [
    {
     "data": {
      "text/plain": [
       "1447"
      ]
     },
     "execution_count": 18,
     "metadata": {},
     "output_type": "execute_result"
    }
   ],
   "source": [
    "len(p)"
   ]
  },
  {
   "cell_type": "code",
   "execution_count": 19,
   "id": "629c496a-6346-4d85-8414-fd595f2d1278",
   "metadata": {},
   "outputs": [
    {
     "data": {
      "text/plain": [
       "33375"
      ]
     },
     "execution_count": 19,
     "metadata": {},
     "output_type": "execute_result"
    }
   ],
   "source": [
    "original_1.n_words"
   ]
  },
  {
   "cell_type": "code",
   "execution_count": null,
   "id": "2c20531f-06f9-4282-a8d6-178b3d190b3c",
   "metadata": {},
   "outputs": [],
   "source": []
  },
  {
   "cell_type": "code",
   "execution_count": null,
   "id": "3bb82a30-60d6-4992-b620-1890d0e20607",
   "metadata": {},
   "outputs": [],
   "source": []
  },
  {
   "cell_type": "code",
   "execution_count": 6,
   "id": "4bfc55d0-4034-4a41-b884-4df7b9e4dc1d",
   "metadata": {},
   "outputs": [],
   "source": [
    "a = await english_1.all_umap()\n",
    "b = await original.all_umap()\n",
    "c = await italian_1.all_umap()\n",
    "d = await portuguese_1.all_umap()\n",
    "e = await english_2.all_umap()\n",
    "f =  await original_1.all_umap()\n",
    "g = await french_1.all_umap()\n",
    "\n",
    "a_emb = await english_1.all_embeddings()\n",
    "b_emb = await original.all_embeddings()\n",
    "c_emb = await italian_1.all_embeddings()\n",
    "d_emb = await portuguese_1.all_embeddings()\n",
    "d_emb = await english_2.all_embeddings()\n",
    "f_emb = await original_1.all_embeddings()\n",
    "g_emb = await french_1.all_embeddings()\n"
   ]
  },
  {
   "cell_type": "code",
   "execution_count": 10,
   "id": "9631b034-68de-4b0a-955e-c6a7c109f62e",
   "metadata": {},
   "outputs": [],
   "source": [
    "import seaborn as sns"
   ]
  },
  {
   "cell_type": "code",
   "execution_count": 11,
   "id": "8b08f7da-294d-482c-a1b0-f88e52f7f913",
   "metadata": {},
   "outputs": [],
   "source": [
    "def plot_3d_umap_embeddings(embeddings_list: list[np.ndarray], labels_list: list[str],\n",
    "                            colors_list: list[str] = None, alphas_list: list[float] = None,\n",
    "                            title: str = \"3D UMAP Embeddings Comparison\"):\n",
    "    \"\"\"\n",
    "    Generates a 3D scatter plot for multiple sets of UMAP embeddings,\n",
    "    allowing custom colors and alpha values for each distribution.\n",
    "\n",
    "    Args:\n",
    "        embeddings_list (list[np.ndarray]): A list of NumPy arrays, where each array\n",
    "                                            contains 3D UMAP embeddings.\n",
    "                                            Expected shape for each array: (n_samples, 3).\n",
    "        labels_list (list[str]): A list of labels, corresponding to each set of embeddings\n",
    "                                 in embeddings_list.\n",
    "        colors_list (list[str], optional): A list of color strings (e.g., 'red', '#FF0000').\n",
    "                                           If provided, must have the same length as embeddings_list.\n",
    "                                           Defaults to a seaborn palette.\n",
    "        alphas_list (list[float], optional): A list of alpha (transparency) values (0.0 to 1.0).\n",
    "                                             If provided, must have the same length as embeddings_list.\n",
    "                                             Defaults to 0.2 for all.\n",
    "        title (str): The title of the plot.\n",
    "\n",
    "    Raises:\n",
    "        ValueError: If any input embeddings array is not 3-dimensional,\n",
    "                    or if the number of embeddings sets does not match the number of labels,\n",
    "                    colors, or alphas.\n",
    "    \"\"\"\n",
    "    num_distributions = len(embeddings_list)\n",
    "\n",
    "    if num_distributions != len(labels_list):\n",
    "        raise ValueError(\"The number of embedding arrays must match the number of labels.\")\n",
    "    if colors_list is not None and num_distributions != len(colors_list):\n",
    "        raise ValueError(\"If 'colors_list' is provided, its length must match the number of embedding arrays.\")\n",
    "    if alphas_list is not None and num_distributions != len(alphas_list):\n",
    "        raise ValueError(\"If 'alphas_list' is provided, its length must match the number of embedding arrays.\")\n",
    "\n",
    "    # Create a new figure and a 3D subplot\n",
    "    fig = plt.figure(figsize=(10, 8))\n",
    "    ax = fig.add_subplot(111, projection='3d')\n",
    "\n",
    "    # Get a default color palette if custom colors are not provided\n",
    "    default_colors = sns.color_palette(\"rocket\", n_colors=num_distributions)\n",
    "\n",
    "    # Iterate through each set of embeddings and its corresponding label\n",
    "    for i, (embeddings, label) in enumerate(zip(embeddings_list, labels_list)):\n",
    "        # Basic validation: Ensure embeddings are 3-dimensional\n",
    "        if embeddings.shape[1] != 3:\n",
    "            raise ValueError(f\"Embeddings set '{label}' must have 3 columns for 3D plotting, but has {embeddings.shape[1]}.\")\n",
    "\n",
    "        # Determine the color and alpha for the current distribution\n",
    "        current_color = colors_list[i] if colors_list is not None else default_colors[i]\n",
    "        current_alpha = alphas_list[i] if alphas_list is not None else 0.2 # Default alpha\n",
    "\n",
    "        # Plot the current set of embeddings\n",
    "        ax.scatter(embeddings[:, 0], embeddings[:, 1], embeddings[:, 2],\n",
    "                   label=label, s=20, alpha=current_alpha, color=current_color)\n",
    "\n",
    "    # Set labels for the axes\n",
    "    ax.set_xlabel('UMAP Component 1')\n",
    "    ax.set_ylabel('UMAP Component 2')\n",
    "    ax.set_zlabel('UMAP Component 3')\n",
    "\n",
    "    # Set the title and add a legend\n",
    "    ax.set_title(title)\n",
    "    ax.legend()\n",
    "\n",
    "    # Optional: Adjust view angle for better visualization\n",
    "    ax.view_init(elev=20, azim=-60) # You can play with these values\n",
    "\n",
    "    # Show the plot\n",
    "    plt.show()\n"
   ]
  },
  {
   "cell_type": "code",
   "execution_count": 12,
   "id": "9c12ae1f-7909-4546-9daa-627e114c8e8c",
   "metadata": {},
   "outputs": [
    {
     "ename": "AttributeError",
     "evalue": "'str' object has no attribute 'shape'",
     "output_type": "error",
     "traceback": [
      "\u001b[0;31m---------------------------------------------------------------------------\u001b[0m",
      "\u001b[0;31mAttributeError\u001b[0m                            Traceback (most recent call last)",
      "Cell \u001b[0;32mIn[12], line 1\u001b[0m\n\u001b[0;32m----> 1\u001b[0m \u001b[43mplot_3d_umap_embeddings\u001b[49m\u001b[43m(\u001b[49m\n\u001b[1;32m      2\u001b[0m \u001b[43m    \u001b[49m\u001b[43membeddings_list\u001b[49m\u001b[38;5;241;43m=\u001b[39;49m\u001b[43m[\u001b[49m\n\u001b[1;32m      3\u001b[0m \u001b[43m        \u001b[49m\u001b[43mor_1_em\u001b[49m\u001b[43m,\u001b[49m\n\u001b[1;32m      4\u001b[0m \u001b[43m        \u001b[49m\u001b[43men_1_em\u001b[49m\u001b[43m,\u001b[49m\n\u001b[1;32m      5\u001b[0m \u001b[43m        \u001b[49m\n\u001b[1;32m      6\u001b[0m \u001b[43m        \u001b[49m\n\u001b[1;32m      7\u001b[0m \u001b[43m    \u001b[49m\u001b[43m]\u001b[49m\u001b[43m,\u001b[49m\n\u001b[1;32m      8\u001b[0m \u001b[43m    \u001b[49m\u001b[43mlabels_list\u001b[49m\u001b[38;5;241;43m=\u001b[39;49m\u001b[43m[\u001b[49m\n\u001b[1;32m      9\u001b[0m \u001b[43m        \u001b[49m\u001b[38;5;124;43m\"\u001b[39;49m\u001b[38;5;124;43moriginal\u001b[39;49m\u001b[38;5;124;43m\"\u001b[39;49m\u001b[43m,\u001b[49m\n\u001b[1;32m     10\u001b[0m \u001b[43m        \u001b[49m\u001b[38;5;124;43m\"\u001b[39;49m\u001b[38;5;124;43menglish_1\u001b[39;49m\u001b[38;5;124;43m\"\u001b[39;49m\n\u001b[1;32m     11\u001b[0m \u001b[43m    \u001b[49m\u001b[43m]\u001b[49m\u001b[43m,\u001b[49m\n\u001b[1;32m     12\u001b[0m \u001b[43m    \u001b[49m\u001b[43mcolors_list\u001b[49m\u001b[38;5;241;43m=\u001b[39;49m\u001b[43m[\u001b[49m\n\u001b[1;32m     13\u001b[0m \u001b[43m        \u001b[49m\u001b[38;5;124;43m'\u001b[39;49m\u001b[38;5;124;43mred\u001b[39;49m\u001b[38;5;124;43m'\u001b[39;49m\u001b[43m,\u001b[49m\u001b[43m      \u001b[49m\u001b[38;5;66;43;03m# Custom color for Italian\u001b[39;49;00m\n\u001b[1;32m     14\u001b[0m \u001b[43m        \u001b[49m\u001b[38;5;124;43m'\u001b[39;49m\u001b[38;5;124;43mblue\u001b[39;49m\u001b[38;5;124;43m'\u001b[39;49m\u001b[43m,\u001b[49m\u001b[43m     \u001b[49m\u001b[38;5;66;43;03m# Custom color for English\u001b[39;49;00m\n\u001b[1;32m     15\u001b[0m \u001b[43m        \u001b[49m\n\u001b[1;32m     16\u001b[0m \u001b[43m    \u001b[49m\u001b[43m]\u001b[49m\u001b[43m,\u001b[49m\n\u001b[1;32m     17\u001b[0m \u001b[43m    \u001b[49m\u001b[43malphas_list\u001b[49m\u001b[38;5;241;43m=\u001b[39;49m\u001b[43m[\u001b[49m\n\u001b[1;32m     18\u001b[0m \u001b[43m        \u001b[49m\u001b[38;5;241;43m0.2\u001b[39;49m\u001b[43m,\u001b[49m\u001b[43m         \u001b[49m\u001b[38;5;66;43;03m# Custom alpha for Italian\u001b[39;49;00m\n\u001b[1;32m     19\u001b[0m \u001b[43m        \u001b[49m\u001b[38;5;241;43m0.2\u001b[39;49m\u001b[43m,\u001b[49m\u001b[43m         \u001b[49m\u001b[38;5;66;43;03m# Custom alpha for English\u001b[39;49;00m\n\u001b[1;32m     20\u001b[0m \u001b[43m        \u001b[49m\n\u001b[1;32m     21\u001b[0m \u001b[43m    \u001b[49m\u001b[43m]\u001b[49m\u001b[43m,\u001b[49m\n\u001b[1;32m     22\u001b[0m \u001b[43m    \u001b[49m\u001b[43mtitle\u001b[49m\u001b[38;5;241;43m=\u001b[39;49m\u001b[38;5;124;43m\"\u001b[39;49m\u001b[38;5;124;43m3D UMAP Embeddings Comparison\u001b[39;49m\u001b[38;5;124;43m\"\u001b[39;49m\n\u001b[1;32m     23\u001b[0m \u001b[43m)\u001b[49m\n",
      "Cell \u001b[0;32mIn[11], line 46\u001b[0m, in \u001b[0;36mplot_3d_umap_embeddings\u001b[0;34m(embeddings_list, labels_list, colors_list, alphas_list, title)\u001b[0m\n\u001b[1;32m     43\u001b[0m \u001b[38;5;66;03m# Iterate through each set of embeddings and its corresponding label\u001b[39;00m\n\u001b[1;32m     44\u001b[0m \u001b[38;5;28;01mfor\u001b[39;00m i, (embeddings, label) \u001b[38;5;129;01min\u001b[39;00m \u001b[38;5;28menumerate\u001b[39m(\u001b[38;5;28mzip\u001b[39m(embeddings_list, labels_list)):\n\u001b[1;32m     45\u001b[0m     \u001b[38;5;66;03m# Basic validation: Ensure embeddings are 3-dimensional\u001b[39;00m\n\u001b[0;32m---> 46\u001b[0m     \u001b[38;5;28;01mif\u001b[39;00m \u001b[43membeddings\u001b[49m\u001b[38;5;241;43m.\u001b[39;49m\u001b[43mshape\u001b[49m[\u001b[38;5;241m1\u001b[39m] \u001b[38;5;241m!=\u001b[39m \u001b[38;5;241m3\u001b[39m:\n\u001b[1;32m     47\u001b[0m         \u001b[38;5;28;01mraise\u001b[39;00m \u001b[38;5;167;01mValueError\u001b[39;00m(\u001b[38;5;124mf\u001b[39m\u001b[38;5;124m\"\u001b[39m\u001b[38;5;124mEmbeddings set \u001b[39m\u001b[38;5;124m'\u001b[39m\u001b[38;5;132;01m{\u001b[39;00mlabel\u001b[38;5;132;01m}\u001b[39;00m\u001b[38;5;124m'\u001b[39m\u001b[38;5;124m must have 3 columns for 3D plotting, but has \u001b[39m\u001b[38;5;132;01m{\u001b[39;00membeddings\u001b[38;5;241m.\u001b[39mshape[\u001b[38;5;241m1\u001b[39m]\u001b[38;5;132;01m}\u001b[39;00m\u001b[38;5;124m.\u001b[39m\u001b[38;5;124m\"\u001b[39m)\n\u001b[1;32m     49\u001b[0m     \u001b[38;5;66;03m# Determine the color and alpha for the current distribution\u001b[39;00m\n",
      "\u001b[0;31mAttributeError\u001b[0m: 'str' object has no attribute 'shape'"
     ]
    },
    {
     "data": {
      "image/png": "[encoded data removed]",
      "text/plain": [
       "<Figure size 1000x800 with 1 Axes>"
      ]
     },
     "metadata": {},
     "output_type": "display_data"
    }
   ],
   "source": [
    "plot_3d_umap_embeddings(\n",
    "    embeddings_list=[\n",
    "        or_1_em,\n",
    "        en_1_em,\n",
    "        \n",
    "        \n",
    "    ],\n",
    "    labels_list=[\n",
    "        \"original\",\n",
    "        \"english_1\"\n",
    "    ],\n",
    "    colors_list=[\n",
    "        'red',      # Custom color for Italian\n",
    "        'blue',     # Custom color for English\n",
    "        \n",
    "    ],\n",
    "    alphas_list=[\n",
    "        0.2,         # Custom alpha for Italian\n",
    "        0.2,         # Custom alpha for English\n",
    "        \n",
    "    ],\n",
    "    title=\"3D UMAP Embeddings Comparison\"\n",
    ")"
   ]
  },
  {
   "cell_type": "code",
   "execution_count": null,
   "id": "013adb45-695e-4116-ab0f-d842c3558239",
   "metadata": {},
   "outputs": [],
   "source": []
  },
  {
   "cell_type": "code",
   "execution_count": null,
   "id": "38d5d72b-d90f-47c6-b3c8-26c0760df4be",
   "metadata": {},
   "outputs": [],
   "source": []
  },
  {
   "cell_type": "code",
   "execution_count": null,
   "id": "d7b2469a-838f-49bf-b117-4feb0c79a69e",
   "metadata": {},
   "outputs": [],
   "source": []
  },
  {
   "cell_type": "code",
   "execution_count": 156,
   "id": "a148a8d2-0fa8-4146-91f7-f5e3a3e23b30",
   "metadata": {},
   "outputs": [
    {
     "data": {
      "image/png": "[encoded data removed]",
      "text/plain": [
       "<Figure size 1000x800 with 1 Axes>"
      ]
     },
     "metadata": {},
     "output_type": "display_data"
    },
    {
     "name": "stderr",
     "output_type": "stream",
     "text": [
      "/tmp/ipykernel_1818/1744491694.py:8: UserWarning: No artists with labels found to put in legend.  Note that artists whose label start with an underscore are ignored when legend() is called with no argument.\n",
      "  plt.legend()\n"
     ]
    },
    {
     "data": {
      "text/plain": [
       "<matplotlib.legend.Legend at 0x70ddcc1b4220>"
      ]
     },
     "execution_count": 156,
     "metadata": {},
     "output_type": "execute_result"
    },
    {
     "data": {
      "image/png": "[encoded data removed]",
      "text/plain": [
       "<Figure size 640x480 with 1 Axes>"
      ]
     },
     "metadata": {},
     "output_type": "display_data"
    }
   ],
   "source": [
    "import matplotlib.pyplot as plt\n",
    "plot_3d_umap_embeddings([final_matrices['or_2_em'],\n",
    "                        final_matrices['en_1_em'],\n",
    "                        final_matrices['en_2_em'],],\n",
    "                        [\"spanish\",\"english_1\",\"english_2\"\n",
    "                        ], \n",
    "                        title= \"3D UMAP Embeddings Comparison\")\n",
    "plt.legend()"
   ]
  },
  {
   "cell_type": "code",
   "execution_count": null,
   "id": "afb4e44a-e76c-4b25-9134-bdb6b293bd8d",
   "metadata": {},
   "outputs": [],
   "source": []
  },
  {
   "cell_type": "code",
   "execution_count": null,
   "id": "fa01c6c4-c0c1-45a0-b594-ebd810cc46d5",
   "metadata": {},
   "outputs": [],
   "source": []
  },
  {
   "cell_type": "code",
   "execution_count": null,
   "id": "40fa1bbe-4c9c-4f2d-99cf-c4678e19b62f",
   "metadata": {},
   "outputs": [],
   "source": []
  },
  {
   "cell_type": "code",
   "execution_count": null,
   "id": "73ea2a63-5b8e-47a8-bbab-eb747c8d1717",
   "metadata": {},
   "outputs": [],
   "source": []
  },
  {
   "cell_type": "code",
   "execution_count": 19,
   "id": "9eb3d2a5-b794-4be0-865d-0ed0adab9949",
   "metadata": {},
   "outputs": [
    {
     "ename": "ModuleNotFoundError",
     "evalue": "No module named 'seaborn'",
     "output_type": "error",
     "traceback": [
      "\u001b[0;31m---------------------------------------------------------------------------\u001b[0m",
      "\u001b[0;31mModuleNotFoundError\u001b[0m                       Traceback (most recent call last)",
      "Cell \u001b[0;32mIn[19], line 3\u001b[0m\n\u001b[1;32m      1\u001b[0m \u001b[38;5;28;01mimport\u001b[39;00m\u001b[38;5;250m \u001b[39m\u001b[38;5;21;01mmatplotlib\u001b[39;00m\u001b[38;5;21;01m.\u001b[39;00m\u001b[38;5;21;01mpyplot\u001b[39;00m\u001b[38;5;250m \u001b[39m\u001b[38;5;28;01mas\u001b[39;00m\u001b[38;5;250m \u001b[39m\u001b[38;5;21;01mplt\u001b[39;00m\n\u001b[1;32m      2\u001b[0m \u001b[38;5;28;01mimport\u001b[39;00m\u001b[38;5;250m \u001b[39m\u001b[38;5;21;01mnumpy\u001b[39;00m\u001b[38;5;250m \u001b[39m\u001b[38;5;28;01mas\u001b[39;00m\u001b[38;5;250m \u001b[39m\u001b[38;5;21;01mnp\u001b[39;00m\n\u001b[0;32m----> 3\u001b[0m \u001b[38;5;28;01mimport\u001b[39;00m\u001b[38;5;250m \u001b[39m\u001b[38;5;21;01mseaborn\u001b[39;00m\u001b[38;5;250m \u001b[39m\u001b[38;5;28;01mas\u001b[39;00m\u001b[38;5;250m \u001b[39m\u001b[38;5;21;01msns\u001b[39;00m \u001b[38;5;66;03m# For potential color palettes or general styling, though not strictly required for basic 3D scatter\u001b[39;00m\n\u001b[1;32m      5\u001b[0m \u001b[38;5;28;01mdef\u001b[39;00m\u001b[38;5;250m \u001b[39m\u001b[38;5;21mplot_3d_umap_embeddings\u001b[39m(embeddings1: np\u001b[38;5;241m.\u001b[39mndarray, label1: \u001b[38;5;28mstr\u001b[39m, \n\u001b[1;32m      6\u001b[0m                             embeddings2: np\u001b[38;5;241m.\u001b[39mndarray, label2: \u001b[38;5;28mstr\u001b[39m, \n\u001b[1;32m      7\u001b[0m                             title: \u001b[38;5;28mstr\u001b[39m \u001b[38;5;241m=\u001b[39m \u001b[38;5;124m\"\u001b[39m\u001b[38;5;124m3D UMAP Embeddings Comparison\u001b[39m\u001b[38;5;124m\"\u001b[39m):\n\u001b[1;32m      8\u001b[0m \u001b[38;5;250m    \u001b[39m\u001b[38;5;124;03m\"\"\"\u001b[39;00m\n\u001b[1;32m      9\u001b[0m \u001b[38;5;124;03m    Generates a 3D scatter plot comparing two sets of UMAP embeddings.\u001b[39;00m\n\u001b[1;32m     10\u001b[0m \n\u001b[0;32m   (...)\u001b[0m\n\u001b[1;32m     21\u001b[0m \u001b[38;5;124;03m        ValueError: If the input embeddings arrays are not 3-dimensional.\u001b[39;00m\n\u001b[1;32m     22\u001b[0m \u001b[38;5;124;03m    \"\"\"\u001b[39;00m\n",
      "\u001b[0;31mModuleNotFoundError\u001b[0m: No module named 'seaborn'"
     ]
    }
   ],
   "source": [
    "import matplotlib.pyplot as plt\n",
    "import numpy as np\n",
    "import seaborn as sns # For potential color palettes or general styling, though not strictly required for basic 3D scatter\n",
    "\n",
    "def plot_3d_umap_embeddings(embeddings1: np.ndarray, label1: str, \n",
    "                            embeddings2: np.ndarray, label2: str, \n",
    "                            title: str = \"3D UMAP Embeddings Comparison\"):\n",
    "    \"\"\"\n",
    "    Generates a 3D scatter plot comparing two sets of UMAP embeddings.\n",
    "\n",
    "    Args:\n",
    "        embeddings1 (np.ndarray): The first NumPy array of 3D UMAP embeddings.\n",
    "                                  Expected shape: (n_samples, 3).\n",
    "        label1 (str): A label for the first set of embeddings (e.g., \"English Corpus\").\n",
    "        embeddings2 (np.ndarray): The second NumPy array of 3D UMAP embeddings.\n",
    "                                  Expected shape: (n_samples, 3).\n",
    "        label2 (str): A label for the second set of embeddings (e.g., \"Original Corpus\").\n",
    "        title (str): The title of the plot.\n",
    "\n",
    "    Raises:\n",
    "        ValueError: If the input embeddings arrays are not 3-dimensional.\n",
    "    \"\"\"\n",
    "    # Basic validation: Ensure embeddings are 3-dimensional\n",
    "    if embeddings1.shape[1] != 3 or embeddings2.shape[1] != 3:\n",
    "        raise ValueError(\"Both embeddings arrays must have 3 columns for 3D plotting.\")\n",
    "\n",
    "    # Create a new figure and a 3D subplot\n",
    "    fig = plt.figure(figsize=(10, 8))\n",
    "    ax = fig.add_subplot(111, projection='3d')\n",
    "\n",
    "    # Plot the first set of embeddings\n",
    "    # s=20 sets the marker size, alpha=0.7 sets transparency\n",
    "    ax.scatter(embeddings1[:, 0], embeddings1[:, 1], embeddings1[:, 2], \n",
    "               label=label1, s=20, alpha=0.7, color=sns.color_palette(\"deep\")[0])\n",
    "\n",
    "    # Plot the second set of embeddings\n",
    "    ax.scatter(embeddings2[:, 0], embeddings2[:, 1], embeddings2[:, 2], \n",
    "               label=label2, s=20, alpha=0.7, color=sns.color_palette(\"deep\")[1])\n",
    "\n",
    "    # Set labels for the axes\n",
    "    ax.set_xlabel('UMAP Component 1')\n",
    "    ax.set_ylabel('UMAP Component 2')\n",
    "    ax.set_zlabel('UMAP Component 3')\n",
    "\n",
    "    # Set the title and add a legend\n",
    "    ax.set_title(title)\n",
    "    ax.legend()\n",
    "\n",
    "    # Optional: Adjust view angle for better visualization\n",
    "    ax.view_init(elev=20, azim=-60) # You can play with these values\n",
    "\n",
    "    # Show the plot\n",
    "    plt.show()"
   ]
  },
  {
   "cell_type": "code",
   "execution_count": null,
   "id": "e60b43f4-8c07-4c94-9b98-9165b971c17b",
   "metadata": {},
   "outputs": [],
   "source": []
  },
  {
   "cell_type": "code",
   "execution_count": null,
   "id": "89ffa0f2-967a-42ac-bf46-2d7795ac277c",
   "metadata": {},
   "outputs": [],
   "source": []
  },
  {
   "cell_type": "code",
   "execution_count": null,
   "id": "a574979c-5472-4515-a89b-09158ce4daa0",
   "metadata": {},
   "outputs": [],
   "source": []
  },
  {
   "cell_type": "code",
   "execution_count": null,
   "id": "7495b4de-e582-4e0c-9566-398858669f86",
   "metadata": {},
   "outputs": [],
   "source": []
  },
  {
   "cell_type": "code",
   "execution_count": null,
   "id": "646be9b4-6ac4-4e59-85a2-42b652ab1294",
   "metadata": {},
   "outputs": [],
   "source": []
  },
  {
   "cell_type": "code",
   "execution_count": null,
   "id": "a3a8674d-be18-4176-8d83-a86132a1f01e",
   "metadata": {},
   "outputs": [],
   "source": []
  },
  {
   "cell_type": "code",
   "execution_count": 7,
   "id": "f8472c4d-8a4d-4903-8d35-decfe1fd623a",
   "metadata": {},
   "outputs": [],
   "source": [
    "w = await original.word_freq()"
   ]
  },
  {
   "cell_type": "code",
   "execution_count": 8,
   "id": "0c6a6747-a801-47d2-9c77-713d4d327be1",
   "metadata": {},
   "outputs": [
    {
     "data": {
      "text/plain": [
       "5207"
      ]
     },
     "execution_count": 8,
     "metadata": {},
     "output_type": "execute_result"
    }
   ],
   "source": [
    "len(w)"
   ]
  },
  {
   "cell_type": "code",
   "execution_count": null,
   "id": "b6d55e19-b2e8-4c7c-84a7-cdc724f952f0",
   "metadata": {},
   "outputs": [],
   "source": [
    "await original.word_freq()"
   ]
  },
  {
   "cell_type": "code",
   "execution_count": null,
   "id": "562c2d7c-0b16-4699-b3a3-3488ac024143",
   "metadata": {},
   "outputs": [],
   "source": []
  },
  {
   "cell_type": "code",
   "execution_count": null,
   "id": "5363281a-6ce5-404d-8680-b880a911f8f7",
   "metadata": {},
   "outputs": [],
   "source": [
    "get_word_freq_dict"
   ]
  },
  {
   "cell_type": "code",
   "execution_count": null,
   "id": "7e231560-3af3-478a-806e-e0e1fcfe01a5",
   "metadata": {},
   "outputs": [],
   "source": []
  },
  {
   "cell_type": "code",
   "execution_count": null,
   "id": "b40a5154-af43-49d6-9837-ae0df3adaa44",
   "metadata": {},
   "outputs": [],
   "source": []
  },
  {
   "cell_type": "code",
   "execution_count": null,
   "id": "34a79c12-bb88-4f9c-a2d5-32f35bc0d176",
   "metadata": {},
   "outputs": [],
   "source": []
  },
  {
   "cell_type": "code",
   "execution_count": null,
   "id": "0e50c805-4383-4d48-83f8-fd3db9e1d22a",
   "metadata": {},
   "outputs": [],
   "source": []
  },
  {
   "cell_type": "code",
   "execution_count": null,
   "id": "c5f0e042-93e1-4c59-87bb-859203766ba4",
   "metadata": {},
   "outputs": [],
   "source": []
  },
  {
   "cell_type": "code",
   "execution_count": null,
   "id": "7b279f2e-d5af-405b-ba25-75a3cafdb1c7",
   "metadata": {},
   "outputs": [],
   "source": []
  },
  {
   "cell_type": "code",
   "execution_count": null,
   "id": "c9c80696-64c2-41a4-8652-78f87a144991",
   "metadata": {},
   "outputs": [],
   "source": []
  },
  {
   "cell_type": "code",
   "execution_count": null,
   "id": "73068f2d-ae6a-4e38-be24-e0abdfad443f",
   "metadata": {},
   "outputs": [],
   "source": []
  },
  {
   "cell_type": "code",
   "execution_count": null,
   "id": "1829126a-0814-4666-ac36-4880c64fb78c",
   "metadata": {},
   "outputs": [],
   "source": []
  },
  {
   "cell_type": "code",
   "execution_count": null,
   "id": "f92fddbb-d45d-47a3-8317-66d7bc3ddc42",
   "metadata": {},
   "outputs": [],
   "source": [
    "w"
   ]
  },
  {
   "cell_type": "code",
   "execution_count": null,
   "id": "c125b63e-1140-498b-8b00-afd9556a5858",
   "metadata": {},
   "outputs": [],
   "source": []
  },
  {
   "cell_type": "code",
   "execution_count": 11,
   "id": "fda1806c-0d83-4d80-af4c-9ca32e7db87c",
   "metadata": {},
   "outputs": [],
   "source": [
    "emb = await original.all_embeddings()"
   ]
  },
  {
   "cell_type": "code",
   "execution_count": 12,
   "id": "47b2f1fd-a5ea-4980-85b3-259e70aa590a",
   "metadata": {},
   "outputs": [],
   "source": [
    "para = await original.all_paragraphs()"
   ]
  },
  {
   "cell_type": "code",
   "execution_count": 13,
   "id": "45afa590-a779-499a-bc86-bcc4f0586aa7",
   "metadata": {},
   "outputs": [],
   "source": [
    "umap_emb = await original.all_umap()"
   ]
  },
  {
   "cell_type": "code",
   "execution_count": 18,
   "id": "b1545370-1621-46e2-a4ce-0f4c99ec6aa5",
   "metadata": {},
   "outputs": [],
   "source": [
    "words = [x for x in original.word_set.split('#') if len(x)>0 ]"
   ]
  },
  {
   "cell_type": "code",
   "execution_count": 19,
   "id": "2d2e205d-ca67-4d39-b124-aeb7801ddb4b",
   "metadata": {},
   "outputs": [
    {
     "data": {
      "text/plain": [
       "['reumas', 'pesos', 'borrara', 'gato', 'vapores']"
      ]
     },
     "execution_count": 19,
     "metadata": {},
     "output_type": "execute_result"
    }
   ],
   "source": [
    "words[:5]"
   ]
  },
  {
   "cell_type": "code",
   "execution_count": 15,
   "id": "050cf511-6987-4670-a2cb-074536690054",
   "metadata": {},
   "outputs": [
    {
     "data": {
      "text/plain": [
       "array([ 7.8938613, 10.807804 ,  6.217153 ], dtype=float32)"
      ]
     },
     "execution_count": 15,
     "metadata": {},
     "output_type": "execute_result"
    }
   ],
   "source": [
    "umap_emb[0]"
   ]
  },
  {
   "cell_type": "code",
   "execution_count": null,
   "id": "ba723302-6071-4336-8531-4711da6abff1",
   "metadata": {},
   "outputs": [],
   "source": []
  },
  {
   "cell_type": "code",
   "execution_count": 10,
   "id": "30d93f02-29a3-4cef-a89a-83941b0c9cfd",
   "metadata": {},
   "outputs": [
    {
     "data": {
      "text/plain": [
       "'Vine a Comala porque me dijeron que acá vivía mi padre, un tal Pedro Páramo. Mi madre me lo dijo. Y yo le prometí que vendría a verlo en cuanto ella muriera. Le apreté sus manos en señal de que lo haría; pues ella estaba por morirse y yo en plan de prometerlo todo. «No dejes de ir a visitarlo —me recomendó—. Se llama de otro modo y de este otro. Estoy segura de que le dará gusto conocerte». Entonces no pude hacer otra cosa sino decirle que así lo haría, y de tanto decírselo se lo seguí diciendo aun después que a mis manos les costó trabajo zafarse de sus manos muertas.'"
      ]
     },
     "execution_count": 10,
     "metadata": {},
     "output_type": "execute_result"
    }
   ],
   "source": [
    "am[0]"
   ]
  },
  {
   "cell_type": "code",
   "execution_count": 9,
   "id": "ff27b7a9-0969-4344-b8d8-3232df6824d8",
   "metadata": {},
   "outputs": [],
   "source": []
  }
 ],
 "metadata": {
  "kernelspec": {
   "display_name": "real_real_nlp",
   "language": "python",
   "name": "real_real_nlp"
  },
  "language_info": {
   "codemirror_mode": {
    "name": "ipython",
    "version": 3
   },
   "file_extension": ".py",
   "mimetype": "text/x-python",
   "name": "python",
   "nbconvert_exporter": "python",
   "pygments_lexer": "ipython3",
   "version": "3.10.18"
  }
 },
 "nbformat": 4,
 "nbformat_minor": 5
}
